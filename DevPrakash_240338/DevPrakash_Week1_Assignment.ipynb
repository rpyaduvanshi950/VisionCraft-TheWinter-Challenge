{
 "cells": [
  {
   "cell_type": "markdown",
   "metadata": {
    "id": "UOzd0zRXW5Uv"
   },
   "source": [
    "# Week-1 Assignment\n",
    "\n",
    "*Welcome to your first assignment for the SimuTech Winter Project 2022! I hope you are excited to implement and test everything you have learned up until now. There is an interesting set of questions for you to refine your acquired skills as you delve into hands-on coding and deepen your understanding of numpy, pandas, and data visualization libraries.*"
   ]
  },
  {
   "cell_type": "markdown",
   "metadata": {
    "id": "2XFUXyq9Y9TG"
   },
   "source": [
    "# Section 0 : Importing Libraries"
   ]
  },
  {
   "cell_type": "markdown",
   "metadata": {
    "id": "D_bzcLusjSO0"
   },
   "source": [
    "*Let's begin by importing numpy, pandas and matplotlib.*"
   ]
  },
  {
   "cell_type": "code",
   "execution_count": 43,
   "metadata": {
    "id": "jdwX7bI7aGeY"
   },
   "outputs": [],
   "source": [
    "import numpy as np\n",
    "import pandas as pd\n",
    "import matplotlib.pyplot as plt"
   ]
  },
  {
   "cell_type": "markdown",
   "metadata": {
    "id": "LM25mz5ta-Q_"
   },
   "source": [
    "# Section 1 : Playing with Python and Numpy"
   ]
  },
  {
   "cell_type": "markdown",
   "metadata": {
    "id": "TcFQVqhAdQw_"
   },
   "source": [
    "### Q1. Matrix Multiplication"
   ]
  },
  {
   "cell_type": "markdown",
   "metadata": {
    "id": "6Dcai9pys0j8"
   },
   "source": [
    "##### (i) Check if matrix multiplication is valid"
   ]
  },
  {
   "cell_type": "code",
   "execution_count": 9,
   "metadata": {
    "id": "0qC4txIss3gG"
   },
   "outputs": [],
   "source": [
    "def isValid(A,B):\n",
    "  return A.shape[1]==B.shape[0]\n"
   ]
  },
  {
   "cell_type": "markdown",
   "metadata": {
    "id": "OPTfRGlTdXxa"
   },
   "source": [
    "##### (ii) Using loops (without using numpy)"
   ]
  },
  {
   "cell_type": "code",
   "execution_count": 15,
   "metadata": {
    "id": "V8F5ETsRct3S"
   },
   "outputs": [],
   "source": [
    "def matrix_multiply(A,B):\n",
    "    rows_A = len(A)\n",
    "    cols_A = len(A[0])\n",
    "    rows_B = len(B)\n",
    "    cols_B = len(B[0])\n",
    "\n",
    "    product = [[0] * cols_B for _ in range(rows_A)]\n",
    "\n",
    "    for i in range(rows_A):\n",
    "        for j in range(cols_B):\n",
    "            for k in range(cols_A):\n",
    "                product[i][j] += A[i][k] * B[k][j]\n",
    "\n",
    "    return np.array(product)"
   ]
  },
  {
   "cell_type": "markdown",
   "metadata": {
    "id": "umUgUTSWdos8"
   },
   "source": [
    "##### (iii) Using numpy"
   ]
  },
  {
   "cell_type": "code",
   "execution_count": 5,
   "metadata": {
    "id": "-tdXlCHrduBP"
   },
   "outputs": [],
   "source": [
    "def matrix_multiply_2(A,B):\n",
    "  result = A.dot(B)\n",
    "  return result"
   ]
  },
  {
   "cell_type": "markdown",
   "metadata": {
    "id": "2nMFnl84edJG"
   },
   "source": [
    "##### (iv) Testing your code\n",
    "\n",
    "Run the following cell to check if your functions are working properly.\n",
    "\n",
    "*Expected output:*\n",
    "[ [102 108 114]\n",
    " [246 261 276]\n",
    " [390 414 438]\n",
    " [534 567 600] ]"
   ]
  },
  {
   "cell_type": "code",
   "execution_count": 16,
   "metadata": {
    "colab": {
     "base_uri": "https://localhost:8080/"
    },
    "id": "09rX_Cm9ezmq",
    "outputId": "87a4104d-da26-4f6a-84ff-83083508124f"
   },
   "outputs": [
    {
     "name": "stdout",
     "output_type": "stream",
     "text": [
      "Result using loops: [[102 108 114]\n",
      " [246 261 276]\n",
      " [390 414 438]\n",
      " [534 567 600]]\n",
      "Result using numpy: [[102 108 114]\n",
      " [246 261 276]\n",
      " [390 414 438]\n",
      " [534 567 600]]\n"
     ]
    }
   ],
   "source": [
    "A = np.array([\n",
    "    [1, 2, 3],\n",
    "    [4, 5, 6],\n",
    "    [7, 8, 9],\n",
    "    [10, 11, 12]\n",
    "])\n",
    "\n",
    "B = np.array([\n",
    "    [13, 14, 15],\n",
    "    [16, 17, 18],\n",
    "    [19, 20, 21]\n",
    "])\n",
    "\n",
    "if isValid(A,B):\n",
    "  print(f\"Result using loops: {matrix_multiply(A,B)}\")\n",
    "  print(f\"Result using numpy: {matrix_multiply_2(A,B)}\")\n",
    "else:\n",
    "  print(f\"Matrix multiplication is not valid\")"
   ]
  },
  {
   "cell_type": "markdown",
   "metadata": {
    "id": "5hfP7Ao1fwqV"
   },
   "source": [
    "### Q2. Z-Score Normalisation"
   ]
  },
  {
   "cell_type": "markdown",
   "metadata": {
    "id": "0e81Xx5Kw_CQ"
   },
   "source": [
    "Z-score normalization refers to the process of normalizing every value in a dataset such that the mean of all of the values is 0 and the standard deviation is 1.\n",
    "\n",
    "We use the following formula to perform a z-score normalization on every value in a dataset:\n",
    "\n",
    "New value = (x – μ) / σ\n",
    "\n",
    "where:\n",
    "\n",
    "x: Original value\n",
    "\n",
    "μ: Mean of data\n",
    "\n",
    "σ: Standard deviation of data"
   ]
  },
  {
   "cell_type": "markdown",
   "metadata": {
    "id": "GP_MuyUbguSR"
   },
   "source": [
    "##### (i) Without using numpy"
   ]
  },
  {
   "cell_type": "code",
   "execution_count": 29,
   "metadata": {
    "id": "0vix8qaaghwP"
   },
   "outputs": [],
   "source": [
    "def mean(x):\n",
    "  return sum(x)/len(x)"
   ]
  },
  {
   "cell_type": "code",
   "execution_count": 32,
   "metadata": {
    "id": "j1qabel-g_f5"
   },
   "outputs": [],
   "source": [
    "def standard_deviation(x):\n",
    " square_deviation = 0\n",
    " u = mean(x)\n",
    " for i in x:\n",
    "  square_deviation += (i-u)**2\n",
    " standard_deviation = (square_deviation/len(x))**0.5\n",
    " return standard_deviation"
   ]
  },
  {
   "cell_type": "code",
   "execution_count": 34,
   "metadata": {
    "id": "797ewbNqhEpY"
   },
   "outputs": [],
   "source": [
    "def zscore_normalisation(x):\n",
    "    ZScore=[]\n",
    "    u=mean(x)\n",
    "    a=standard_deviation(x)\n",
    "    for i in x:\n",
    "        z=(i-u)/a\n",
    "        ZScore.append(round(z,8))\n",
    "    return ZScore"
   ]
  },
  {
   "cell_type": "markdown",
   "metadata": {
    "id": "k8dq1wqRhbUB"
   },
   "source": [
    "##### (ii) Using numpy\n",
    "\n",
    "Numpy has in_built functions for calculating mean and standard deviation"
   ]
  },
  {
   "cell_type": "code",
   "execution_count": 27,
   "metadata": {
    "id": "WjxJTUDihsYg"
   },
   "outputs": [],
   "source": [
    "def zscore_normalisation_2(x):\n",
    "    ZScore=[]\n",
    "    n=np.array(x)\n",
    "    for i in x:\n",
    "        z=(i-(np.mean(n)))/(np.std(n))\n",
    "        ZScore.append(round(float(z),8))\n",
    "    return np.array(ZScore)\n"
   ]
  },
  {
   "cell_type": "markdown",
   "metadata": {
    "id": "glRqKU-_1pue"
   },
   "source": [
    "##### (iii) Testing your code"
   ]
  },
  {
   "cell_type": "markdown",
   "metadata": {
    "id": "Kl7XBymOigCU"
   },
   "source": [
    "Run the following cell to check if your functions are working properly.\n",
    "\n",
    "*Expected Output:* [-1.06753267 -0.99745394 -0.99745394 -0.81057732 -0.41346451 -0.06307086\n",
    "  0.31068237  0.91803138  1.22170588  1.89913361]"
   ]
  },
  {
   "cell_type": "code",
   "execution_count": 35,
   "metadata": {
    "colab": {
     "base_uri": "https://localhost:8080/"
    },
    "id": "78ptZxf6ipZp",
    "outputId": "18f76c39-c1ed-4014-ef19-f71603f19204"
   },
   "outputs": [
    {
     "name": "stdout",
     "output_type": "stream",
     "text": [
      "Result without using numpy: [-1.06753267, -0.99745394, -0.99745394, -0.81057732, -0.41346451, -0.06307086, 0.31068237, 0.91803138, 1.22170588, 1.89913361]\n",
      "Result using numpy: [-1.06753267 -0.99745394 -0.99745394 -0.81057732 -0.41346451 -0.06307086\n",
      "  0.31068237  0.91803138  1.22170588  1.89913361]\n"
     ]
    }
   ],
   "source": [
    "x = [4, 7, 7, 15, 32, 47, 63, 89, 102, 131]\n",
    "print(f\"Result without using numpy: {zscore_normalisation(x)}\")\n",
    "print(f\"Result using numpy: {zscore_normalisation_2(x)}\")"
   ]
  },
  {
   "cell_type": "markdown",
   "metadata": {
    "id": "0WVscJ0z14rp"
   },
   "source": [
    "### Q3. Sigmoid fn and its derivative"
   ]
  },
  {
   "cell_type": "markdown",
   "metadata": {
    "id": "Jfntb0Rg94Tu"
   },
   "source": [
    "The sigmoid function is a mathematical function that maps any input value to a value between 0 and 1.\n",
    "\n",
    "It is defined mathematically as s(x) = 1/(1+e^(-x))."
   ]
  },
  {
   "cell_type": "markdown",
   "metadata": {},
   "source": []
  },
  {
   "cell_type": "markdown",
   "metadata": {
    "id": "8SCAPkjO2m7u"
   },
   "source": [
    "##### (i) Write a fn to implement sigmoid fn"
   ]
  },
  {
   "cell_type": "code",
   "execution_count": 36,
   "metadata": {
    "id": "jL_TRQFG2l5m"
   },
   "outputs": [],
   "source": [
    "def sigmoidfn(x):\n",
    "    L=[]\n",
    "    for i in x:\n",
    "        l=[]\n",
    "        for j in i:\n",
    "            l.append(1/(1+(np.exp((-1)*j))))\n",
    "        L.append(l)\n",
    "    return np.array(L)"
   ]
  },
  {
   "cell_type": "markdown",
   "metadata": {
    "id": "t7KBbl7N3AUM"
   },
   "source": [
    "##### (ii) Write a fn to implement derivative of sigmoid fn"
   ]
  },
  {
   "cell_type": "code",
   "execution_count": null,
   "metadata": {
    "id": "okjuOpba3KOJ"
   },
   "outputs": [],
   "source": [
    "def derivative(x):\n",
    "    i = sigmoidfn(x)\n",
    "    return i-i**2"
   ]
  },
  {
   "cell_type": "markdown",
   "metadata": {
    "id": "NdGTSpsp3mwr"
   },
   "source": [
    "##### (iii) Test your code"
   ]
  },
  {
   "cell_type": "markdown",
   "metadata": {
    "id": "lWY8RBex7gnd"
   },
   "source": [
    "Run the following cell to check if your functions are working properly.\n",
    "\n",
    "*Expected output:*\n",
    "\n",
    "x on applying sigmoid activation fn is: [ [0.99987661 0.88079708 0.99330715 0.5        0.5       ]\n",
    " [0.99908895 0.99330715 0.5        0.5        0.5       ] ]\n",
    "\n",
    "x on applying derivative of sigmoid activation fn is: [ [-1.23379350e-04 -1.04993585e-01 -6.64805667e-03 -2.50000000e-01\n",
    "  -2.50000000e-01]\n",
    " [-9.10221180e-04 -6.64805667e-03 -2.50000000e-01 -2.50000000e-01\n",
    "  -2.50000000e-01] ]"
   ]
  },
  {
   "cell_type": "code",
   "execution_count": 38,
   "metadata": {
    "colab": {
     "base_uri": "https://localhost:8080/"
    },
    "id": "ssDGpmS33vdA",
    "outputId": "7a6ed3cc-2a7b-4ae5-b077-ab7475b3a85c"
   },
   "outputs": [
    {
     "name": "stdout",
     "output_type": "stream",
     "text": [
      "x on applying sigmoid activation fn is: [[0.99987661 0.88079708 0.99330715 0.5        0.5       ]\n",
      " [0.99908895 0.99330715 0.5        0.5        0.5       ]]\n",
      "x on applying derivative of sigmoid activation fn is: [[1.23379350e-04 1.04993585e-01 6.64805667e-03 2.50000000e-01\n",
      "  2.50000000e-01]\n",
      " [9.10221180e-04 6.64805667e-03 2.50000000e-01 2.50000000e-01\n",
      "  2.50000000e-01]]\n"
     ]
    }
   ],
   "source": [
    "x = np.array([\n",
    "    [9,2,5,0,0],\n",
    "    [7,5,0,0,0]\n",
    "])\n",
    "print(f\"x on applying sigmoid activation fn is: {sigmoidfn(x)}\")\n",
    "print(f\"x on applying derivative of sigmoid activation fn is: {derivative(x)}\")"
   ]
  },
  {
   "cell_type": "markdown",
   "metadata": {
    "id": "PMa0cseyZpa1"
   },
   "source": [
    "# Section 2: Exploring Pandas"
   ]
  },
  {
   "cell_type": "markdown",
   "metadata": {
    "id": "DB8e0KVGqV5I"
   },
   "source": [
    "*You have been provided with a dataset which includes information about properties of superheated vapor.*\n",
    "\n",
    "*The dataset consists of the thermophysical properties: specific volume, specific internal energy, specific enthalpy, specific entropy of superheated vapor.*\n",
    "\n",
    "*Pressure is in kPa and Temperature in centigrade. In the dataframe 75, 100, 125, etc. are temperatures.*"
   ]
  },
  {
   "cell_type": "markdown",
   "metadata": {
    "id": "i5Okb_jxZ_VW"
   },
   "source": [
    "### Read the csv file\n"
   ]
  },
  {
   "cell_type": "code",
   "execution_count": 45,
   "metadata": {
    "id": "aQgvyavrcM1l"
   },
   "outputs": [],
   "source": [
    "df=pd.read_csv(\"superheated_vapor_properties.csv\")"
   ]
  },
  {
   "cell_type": "markdown",
   "metadata": {
    "id": "Zp8F3rk2cNxy"
   },
   "source": [
    "### Display the shape of data frame\n"
   ]
  },
  {
   "cell_type": "code",
   "execution_count": 46,
   "metadata": {
    "colab": {
     "base_uri": "https://localhost:8080/"
    },
    "id": "v3Q8kQkucgK0",
    "outputId": "fe48a2a6-465b-419f-8ded-c7d8b318723c"
   },
   "outputs": [
    {
     "name": "stdout",
     "output_type": "stream",
     "text": [
      "(1090, 37)\n"
     ]
    }
   ],
   "source": [
    "print(df.shape)"
   ]
  },
  {
   "cell_type": "markdown",
   "metadata": {
    "id": "w49cp-8zcgd2"
   },
   "source": [
    "### Return an array containing names of all the columns"
   ]
  },
  {
   "cell_type": "code",
   "execution_count": 47,
   "metadata": {
    "colab": {
     "base_uri": "https://localhost:8080/"
    },
    "id": "fz4HRb3JcsZp",
    "outputId": "1cb43542-ce72-4133-dfeb-500cd2b4796c"
   },
   "outputs": [
    {
     "name": "stdout",
     "output_type": "stream",
     "text": [
      "['Pressure' 'Property' 'Liq_Sat' 'Vap_Sat' '75' '100' '125' '150' '175'\n",
      " '200' '220' '225' '240' '250' '260' '275' '280' '290' '300' '320' '325'\n",
      " '340' '350' '360' '375' '380' '400' '425' '450' '475' '500' '525' '550'\n",
      " '575' '600' '625' '650']\n"
     ]
    }
   ],
   "source": [
    "print(np.array(df.columns))"
   ]
  },
  {
   "cell_type": "markdown",
   "metadata": {
    "id": "YkTH9tRWcrH-"
   },
   "source": [
    "### Display the number of null values in each column of the dataframe\n",
    "\n"
   ]
  },
  {
   "cell_type": "code",
   "execution_count": 49,
   "metadata": {
    "colab": {
     "base_uri": "https://localhost:8080/"
    },
    "id": "GK9-PJPxc3Ot",
    "outputId": "a844c4d3-0935-4869-f12c-2b7121e59741"
   },
   "outputs": [
    {
     "name": "stdout",
     "output_type": "stream",
     "text": [
      "Pressure       0\n",
      "Property       2\n",
      "Liq_Sat        2\n",
      "Vap_Sat        2\n",
      "75          1057\n",
      "100         1017\n",
      "125          977\n",
      "150          897\n",
      "175          769\n",
      "200          641\n",
      "220          817\n",
      "225          801\n",
      "240          817\n",
      "250          689\n",
      "260          769\n",
      "275          681\n",
      "280          761\n",
      "290          977\n",
      "300          121\n",
      "320          961\n",
      "325          273\n",
      "340          954\n",
      "350          137\n",
      "360          954\n",
      "375          409\n",
      "380          954\n",
      "400            2\n",
      "425          410\n",
      "450            2\n",
      "475          410\n",
      "500            2\n",
      "525          546\n",
      "550            2\n",
      "575          682\n",
      "600            2\n",
      "625          954\n",
      "650            2\n",
      "dtype: int64\n"
     ]
    }
   ],
   "source": [
    "print(df.isnull().sum())"
   ]
  },
  {
   "cell_type": "markdown",
   "metadata": {
    "id": "Av-lcft2c3mx"
   },
   "source": [
    "### Create a column which contains the Pressure and Property columns, seperated with 'at' (For eg. V at 1, H at 101.325). Using this print the following:\n",
    "- Enthalpy at 75 kPa and 573 K\n",
    "- Entropy at 493 K and 250 kPa\n",
    "\n"
   ]
  },
  {
   "cell_type": "code",
   "execution_count": null,
   "metadata": {
    "colab": {
     "base_uri": "https://localhost:8080/",
     "height": 567
    },
    "collapsed": true,
    "id": "B2AihQj_c32C",
    "outputId": "49e12daa-9b2b-4e50-9628-09a270036ed8"
   },
   "outputs": [],
   "source": [
    "df['Pressure_Property'] = df['Property'] + \" at \" + df['Pressure'].astype(str)\n",
    "enthalpy = df[(df['Pressure'] == 75) & (df['Temperature'] == 573) & (df['Property'] == 'H')]\n",
    "entropy = df[(df['Pressure'] == 250) & (df['Temperature'] == 493) & (df['Property'] == 'S')]\n",
    "print(\"Enthalpy at 75 kPa and 573 K:\")\n",
    "print(enthalpy)\n",
    "print(\"\\nEntropy at 493 K and 250 kPa:\")\n",
    "print(entropy)"
   ]
  },
  {
   "cell_type": "markdown",
   "metadata": {
    "id": "GpLtXYRLc4Ho"
   },
   "source": [
    "### Find out the column with the highest number of missing values"
   ]
  },
  {
   "cell_type": "code",
   "execution_count": 50,
   "metadata": {
    "colab": {
     "base_uri": "https://localhost:8080/"
    },
    "id": "q80Grgeyc4Xn",
    "outputId": "b0c18cc4-5523-40d0-ff74-9081678b46fa"
   },
   "outputs": [
    {
     "name": "stdout",
     "output_type": "stream",
     "text": [
      "75\n"
     ]
    }
   ],
   "source": [
    "print(df.isnull().sum().idxmax())"
   ]
  },
  {
   "cell_type": "markdown",
   "metadata": {
    "id": "74NVHTTac4nv"
   },
   "source": [
    "### What is the average enthalpy of Sat. Liq. at all different pressures in the dataset?"
   ]
  },
  {
   "cell_type": "code",
   "execution_count": null,
   "metadata": {
    "colab": {
     "base_uri": "https://localhost:8080/",
     "height": 342
    },
    "collapsed": true,
    "id": "g3mByhBDdpVr",
    "outputId": "e7ff5f7f-33d4-4435-e996-8e3ce11cf80a"
   },
   "outputs": [],
   "source": [
    "x = df[df['Property']=='H']\n",
    "print(x['Liq_Sat'].mean())"
   ]
  },
  {
   "cell_type": "markdown",
   "metadata": {
    "id": "uS-SuqU8dpxg"
   },
   "source": [
    "### Separate out the V,U,H,S data from the dataset into V_data, U_data, H_data, S_data"
   ]
  },
  {
   "cell_type": "code",
   "execution_count": 57,
   "metadata": {
    "colab": {
     "base_uri": "https://localhost:8080/"
    },
    "id": "Sg3V9Toyd1Av",
    "outputId": "2c3c74fc-a33b-46f6-edd2-7d029b898498"
   },
   "outputs": [
    {
     "name": "stdout",
     "output_type": "stream",
     "text": [
      "V_data:\n",
      "   Pressure Property Liq_Sat Vap_Sat        75       100       125       150  \\\n",
      "0         1        V       1  129200  160640.0  172180.0  183720.0  195270.0   \n",
      "4        10        V    1.01   14670   16030.0   17190.0   18350.0   19510.0   \n",
      "8        20        V   1.017  7649.8    8000.0    8584.7    9167.1    9748.0   \n",
      "12       30        V   1.022  5229.3    5322.0    5714.4    6104.6    6493.2   \n",
      "16       40        V   1.027  3993.4       NaN    4279.2    4573.3    4865.8   \n",
      "\n",
      "         175       200  ...  425       450  475       500  525       550  575  \\\n",
      "0   206810.0  218350.0  ...  NaN  333730.0  NaN  356810.0  NaN  379880.0  NaN   \n",
      "4    20660.0   21820.0  ...  NaN   33370.0  NaN   35670.0  NaN   37980.0  NaN   \n",
      "8    10320.0   10900.0  ...  NaN   16680.0  NaN   17830.0  NaN   18990.0  NaN   \n",
      "12    6880.8    7267.5  ...  NaN   11120.0  NaN   11890.0  NaN   12660.0  NaN   \n",
      "16    5157.2    5447.8  ...  NaN    8340.1  NaN    8917.6  NaN    9494.9  NaN   \n",
      "\n",
      "         600  625       650  \n",
      "0   402960.0  NaN  426040.0  \n",
      "4    40290.0  NaN   42600.0  \n",
      "8    20140.0  NaN   21300.0  \n",
      "12   13430.0  NaN   14190.0  \n",
      "16   10070.0  NaN   10640.0  \n",
      "\n",
      "[5 rows x 37 columns]\n",
      "\n",
      "U_data:\n",
      "   Pressure Property  Liq_Sat Vap_Sat      75     100     125     150     175  \\\n",
      "1         1        U   29.334  2385.2  2480.8  2516.4  2552.3  2588.5  2624.9   \n",
      "5        10        U  191.822    2438  2479.7  2515.6  2551.6  2588.0  2624.5   \n",
      "9        20        U  251.432  2456.9  2478.4  2514.6  2550.9  2587.4  2624.1   \n",
      "13       30        U  289.271  2468.6  2477.1  2513.6  2550.2  2586.8  2623.6   \n",
      "17       40        U  317.609  2477.1     NaN  2512.6  2549.4  2586.2  2623.2   \n",
      "\n",
      "       200  ...  425     450  475     500  525     550  575     600  625  \\\n",
      "1   2661.7  ...  NaN  3049.9  NaN  3132.4  NaN  3216.7  NaN  3302.6  NaN   \n",
      "5   2661.4  ...  NaN  3049.8  NaN  3132.3  NaN  3216.6  NaN  3302.6  NaN   \n",
      "9   2661.0  ...  NaN  3049.7  NaN  3132.3  NaN  3216.5  NaN  3302.5  NaN   \n",
      "13  2660.7  ...  NaN  3049.6  NaN  3132.2  NaN  3216.5  NaN  3302.5  NaN   \n",
      "17  2660.3  ...  NaN  3049.5  NaN  3132.1  NaN  3216.4  NaN  3302.4  NaN   \n",
      "\n",
      "       650  \n",
      "1   3390.3  \n",
      "5   3390.3  \n",
      "9   3390.2  \n",
      "13  3390.2  \n",
      "17  3390.1  \n",
      "\n",
      "[5 rows x 37 columns]\n",
      "\n",
      "H_data:\n",
      "   Pressure Property  Liq_Sat Vap_Sat      75     100     125     150     175  \\\n",
      "2         1        H   29.335  2514.4  2641.5  2688.6  2736.0  2783.7  2831.7   \n",
      "6        10        H  191.832  2584.8  2640.0  2687.5  2735.2  2783.1  2831.2   \n",
      "10       20        H  251.453  2609.9  2638.4  2686.3  2734.2  2782.3  2830.6   \n",
      "14       30        H  289.302  2625.4  2636.8  2685.1  2733.3  2781.6  2830.0   \n",
      "18       40        H   317.65  2636.9     NaN  2683.8  2732.3  2780.9  2829.5   \n",
      "\n",
      "       200  ...  425     450  475     500  525     550  575     600  625  \\\n",
      "2   2880.1  ...  NaN  3383.6  NaN  3489.2  NaN  3596.5  NaN  3705.6  NaN   \n",
      "6   2879.6  ...  NaN  3383.5  NaN  3489.1  NaN  3596.5  NaN  3705.5  NaN   \n",
      "10  2879.2  ...  NaN  3383.4  NaN  3489.0  NaN  3596.4  NaN  3705.4  NaN   \n",
      "14  2878.7  ...  NaN  3383.3  NaN  3488.9  NaN  3596.3  NaN  3705.4  NaN   \n",
      "18  2878.2  ...  NaN  3383.1  NaN  3488.8  NaN  3596.2  NaN  3705.3  NaN   \n",
      "\n",
      "       650  \n",
      "2   3816.4  \n",
      "6   3816.3  \n",
      "10  3816.2  \n",
      "14  3816.2  \n",
      "18  3816.1  \n",
      "\n",
      "[5 rows x 37 columns]\n",
      "\n",
      "S_data:\n",
      "   Pressure Property Liq_Sat Vap_Sat      75     100     125     150     175  \\\n",
      "3         1        S   0.106  8.9767  9.3828  9.5136  9.6365  9.7527  9.8629   \n",
      "7        10        S  0.6493  8.1511  8.3168  8.4486  8.5722  8.6888  8.7994   \n",
      "11       20        S  0.8321  7.9094  7.9933  8.1261  8.2504  8.3676  8.4785   \n",
      "15       30        S  0.9441  7.7695  7.8024  7.9363  8.0614  8.1791  8.2903   \n",
      "19       40        S  1.0261  7.6709     NaN  7.8009  7.9268  8.0450  8.1566   \n",
      "\n",
      "       200  ...  425      450  475      500  525      550  575      600  625  \\\n",
      "3   9.9679  ...  NaN  10.8200  NaN  10.9612  NaN  11.0957  NaN  11.2243  NaN   \n",
      "7   8.9045  ...  NaN   9.7572  NaN   9.8984  NaN  10.0329  NaN  10.1616  NaN   \n",
      "11  8.5839  ...  NaN   9.4372  NaN   9.5784  NaN   9.7130  NaN   9.8416  NaN   \n",
      "15  8.3960  ...  NaN   9.2499  NaN   9.3912  NaN   9.5257  NaN   9.6544  NaN   \n",
      "19  8.2624  ...  NaN   9.1170  NaN   9.2583  NaN   9.3929  NaN   9.5216  NaN   \n",
      "\n",
      "        650  \n",
      "3   11.3476  \n",
      "7   10.2849  \n",
      "11   9.9650  \n",
      "15   9.7778  \n",
      "19   9.6450  \n",
      "\n",
      "[5 rows x 37 columns]\n"
     ]
    }
   ],
   "source": [
    "V_data = df[df['Property'] == 'V']\n",
    "U_data = df[df['Property'] == 'U']\n",
    "H_data = df[df['Property'] == 'H']\n",
    "S_data = df[df['Property'] == 'S']\n",
    "\n",
    "print(\"V_data:\")\n",
    "print(V_data.head())\n",
    "\n",
    "print(\"\\nU_data:\")\n",
    "print(U_data.head())\n",
    "\n",
    "print(\"\\nH_data:\")\n",
    "print(H_data.head())\n",
    "\n",
    "print(\"\\nS_data:\")\n",
    "print(S_data.head())"
   ]
  },
  {
   "cell_type": "markdown",
   "metadata": {
    "id": "aiNiwCZyqV5U"
   },
   "source": [
    "# Section 4 : Conculsion\n",
    "\n",
    "\n"
   ]
  },
  {
   "cell_type": "markdown",
   "metadata": {
    "id": "jrFuIn48qV5U"
   },
   "source": [
    "*Congratulations on reaching this point! I hope you had fun solving your first assignment and have also built confidence in applying these libraries. If you are wondering, we will cover more about z-score normalization in Week 2, and the sigmoid function will be used in Week 3. After completing this assignment, you are now prepared to learn about machine learning techniques and implement your own machine learning models.*"
   ]
  }
 ],
 "metadata": {
  "colab": {
   "provenance": []
  },
  "kernelspec": {
   "display_name": "Python 3 (ipykernel)",
   "language": "python",
   "name": "python3"
  },
  "language_info": {
   "codemirror_mode": {
    "name": "ipython",
    "version": 3
   },
   "file_extension": ".py",
   "mimetype": "text/x-python",
   "name": "python",
   "nbconvert_exporter": "python",
   "pygments_lexer": "ipython3",
   "version": "3.10.5"
  }
 },
 "nbformat": 4,
 "nbformat_minor": 0
}
