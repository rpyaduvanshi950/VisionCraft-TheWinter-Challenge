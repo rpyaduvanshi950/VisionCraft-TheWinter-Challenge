{
 "cells": [
  {
   "cell_type": "code",
   "execution_count": 1,
   "metadata": {},
   "outputs": [],
   "source": [
    "import numpy as np\n",
    "import cv2 as cv"
   ]
  },
  {
   "cell_type": "code",
   "execution_count": 2,
   "metadata": {},
   "outputs": [],
   "source": [
    "img = cv.imread(\"image.jpg\")"
   ]
  },
  {
   "cell_type": "code",
   "execution_count": 3,
   "metadata": {},
   "outputs": [
    {
     "data": {
      "text/plain": [
       "-1"
      ]
     },
     "execution_count": 3,
     "metadata": {},
     "output_type": "execute_result"
    }
   ],
   "source": [
    "cv.imshow('window',img)\n",
    "cv.waitKey(0)\n",
    "# cv.destroyWindow('window')"
   ]
  },
  {
   "cell_type": "code",
   "execution_count": 4,
   "metadata": {},
   "outputs": [],
   "source": [
    "#Reading videos\n",
    "\n",
    "# capture = cv.VideoCapture(\"output.avi\")\n",
    "# while True:\n",
    "#     isTrue, frame = capture.read()\n",
    "#     cv.imshow('VIDEO',frame)\n",
    "\n",
    "#     if cv.waitKey(20) & 0XFF == ord('d'):\n",
    "#         break\n",
    "# capture.release()\n",
    "# cv.destroyAllWindows()"
   ]
  },
  {
   "cell_type": "code",
   "execution_count": 5,
   "metadata": {},
   "outputs": [],
   "source": [
    "def rescaleFrame(frame, scale=0.75):##can be used for videos,images, live video\n",
    "    width = int(frame.shape[1]*scale)\n",
    "    height = int(frame.shape[0]*scale)\n",
    "\n",
    "    dimensions = (width,height)\n",
    "\n",
    "    rescaled_img = cv.resize(frame,dimensions)#interpolation=cv.INTER_AREA\n",
    "    return rescaled_img\n",
    "\n",
    "# capture = cv.VideoCapture(\"output.avi\")\n",
    "# while True:\n",
    "#     isTrue, frame = capture.read()\n",
    "#     rescaledFrame = rescaleFrame(frame)\n",
    "#     cv.imshow('VIDEO',rescaledFrame)\n",
    "\n",
    "#     if cv.waitKey(20) & 0XFF == ord('d'):\n",
    "#         break\n",
    "# capture.release()\n",
    "# cv.destroyAllWindows()"
   ]
  },
  {
   "cell_type": "code",
   "execution_count": 6,
   "metadata": {},
   "outputs": [],
   "source": [
    "def changeRes(width, height):##used for live video\n",
    "    capture.set(3,width)\n",
    "    capture.set(4,height)"
   ]
  },
  {
   "cell_type": "code",
   "execution_count": 7,
   "metadata": {},
   "outputs": [
    {
     "data": {
      "text/plain": [
       "-1"
      ]
     },
     "execution_count": 7,
     "metadata": {},
     "output_type": "execute_result"
    }
   ],
   "source": [
    "blank = np.zeros((500,500,3),dtype= 'uint8')\n",
    "blank[200:500,300:400] = (150,255,0)\n",
    "\n",
    "cv.imshow('window',blank)\n",
    "cv.waitKey(0)"
   ]
  },
  {
   "cell_type": "code",
   "execution_count": 8,
   "metadata": {},
   "outputs": [
    {
     "data": {
      "text/plain": [
       "-1"
      ]
     },
     "execution_count": 8,
     "metadata": {},
     "output_type": "execute_result"
    }
   ],
   "source": [
    "cv.rectangle(blank,(0,0),(250,250),(0,250,0),thickness=2)\n",
    "cv.imshow('window',blank)\n",
    "cv.waitKey(0)"
   ]
  },
  {
   "cell_type": "code",
   "execution_count": 9,
   "metadata": {},
   "outputs": [
    {
     "data": {
      "text/plain": [
       "-1"
      ]
     },
     "execution_count": 9,
     "metadata": {},
     "output_type": "execute_result"
    }
   ],
   "source": [
    "cv.circle(blank,center=(250,250),radius=100,color=(200,255,200),thickness=3)\n",
    "cv.imshow('window',blank)\n",
    "cv.waitKey(0)"
   ]
  },
  {
   "cell_type": "code",
   "execution_count": 10,
   "metadata": {},
   "outputs": [
    {
     "data": {
      "text/plain": [
       "-1"
      ]
     },
     "execution_count": 10,
     "metadata": {},
     "output_type": "execute_result"
    }
   ],
   "source": [
    "cv.line(blank,(250,250),(300,200),color=(255,0,0),thickness=5)\n",
    "cv.imshow('window',blank)\n",
    "cv.waitKey(0)"
   ]
  },
  {
   "cell_type": "code",
   "execution_count": 11,
   "metadata": {},
   "outputs": [
    {
     "data": {
      "text/plain": [
       "-1"
      ]
     },
     "execution_count": 11,
     "metadata": {},
     "output_type": "execute_result"
    }
   ],
   "source": [
    "cv.putText(blank,\"Hello, I am fun.\",(10,200),fontScale=.75,fontFace=cv.FONT_HERSHEY_DUPLEX,color=(20,156,201),thickness=2)\n",
    "cv.imshow('window',blank)\n",
    "cv.waitKey(0)"
   ]
  },
  {
   "cell_type": "code",
   "execution_count": 12,
   "metadata": {},
   "outputs": [
    {
     "data": {
      "text/plain": [
       "-1"
      ]
     },
     "execution_count": 12,
     "metadata": {},
     "output_type": "execute_result"
    }
   ],
   "source": [
    "gray = cv.cvtColor(img,cv.COLOR_BGR2GRAY)\n",
    "cv.imshow('window',gray)\n",
    "cv.waitKey(0)"
   ]
  },
  {
   "cell_type": "code",
   "execution_count": 13,
   "metadata": {},
   "outputs": [
    {
     "data": {
      "text/plain": [
       "-1"
      ]
     },
     "execution_count": 13,
     "metadata": {},
     "output_type": "execute_result"
    }
   ],
   "source": [
    "blur = cv.blur(img,(3,3),cv.BORDER_DEFAULT)\n",
    "cv.imshow('window',blur)\n",
    "cv.waitKey(0)"
   ]
  },
  {
   "cell_type": "code",
   "execution_count": 14,
   "metadata": {},
   "outputs": [
    {
     "data": {
      "text/plain": [
       "-1"
      ]
     },
     "execution_count": 14,
     "metadata": {},
     "output_type": "execute_result"
    }
   ],
   "source": [
    "#Edge cascade\n",
    "canny = cv.Canny(blur,125,175)\n",
    "cv.imshow('window',canny)\n",
    "cv.waitKey(0)"
   ]
  },
  {
   "cell_type": "code",
   "execution_count": 15,
   "metadata": {},
   "outputs": [
    {
     "data": {
      "text/plain": [
       "-1"
      ]
     },
     "execution_count": 15,
     "metadata": {},
     "output_type": "execute_result"
    }
   ],
   "source": [
    "#dilating the image\n",
    "\n",
    "dilated = cv.dilate(canny,(7,7),iterations=3 )\n",
    "cv.imshow('window',dilated)\n",
    "cv.waitKey(0)"
   ]
  },
  {
   "cell_type": "code",
   "execution_count": 16,
   "metadata": {},
   "outputs": [
    {
     "data": {
      "text/plain": [
       "-1"
      ]
     },
     "execution_count": 16,
     "metadata": {},
     "output_type": "execute_result"
    }
   ],
   "source": [
    "#eroding the image\n",
    "\n",
    "eroded = cv.erode(dilated,(7,7),iterations=3 )\n",
    "cv.imshow('window',eroded)\n",
    "cv.waitKey(0)"
   ]
  },
  {
   "cell_type": "code",
   "execution_count": 17,
   "metadata": {},
   "outputs": [
    {
     "data": {
      "text/plain": [
       "-1"
      ]
     },
     "execution_count": 17,
     "metadata": {},
     "output_type": "execute_result"
    }
   ],
   "source": [
    "resized = cv.resize(img,(1000,1000),interpolation=cv.INTER_CUBIC)\n",
    "cv.imshow('window',resized)\n",
    "cv.waitKey(0)"
   ]
  },
  {
   "cell_type": "code",
   "execution_count": 18,
   "metadata": {},
   "outputs": [
    {
     "data": {
      "text/plain": [
       "-1"
      ]
     },
     "execution_count": 18,
     "metadata": {},
     "output_type": "execute_result"
    }
   ],
   "source": [
    "#cropping\n",
    "cropped = img[100:400,200:350]\n",
    "cv.imshow('window',cropped)\n",
    "cv.waitKey(0)"
   ]
  },
  {
   "cell_type": "code",
   "execution_count": 19,
   "metadata": {},
   "outputs": [
    {
     "data": {
      "text/plain": [
       "-1"
      ]
     },
     "execution_count": 19,
     "metadata": {},
     "output_type": "execute_result"
    }
   ],
   "source": [
    "#Rotation\n",
    "def rotate(img, angle, rotPoint = None):\n",
    "    (height, width) = img.shape[:2]\n",
    "\n",
    "    if rotPoint is None:\n",
    "        rotPoint = (width//2,height//2)\n",
    "\n",
    "    rotMat = cv.getRotationMatrix2D(rotPoint,angle,1.0)\n",
    "    dimensions = (width, height)\n",
    "    return cv.warpAffine(img,rotMat,dimensions)\n",
    "\n",
    "rotated = rotate(img,120)\n",
    "rerotated = rotate(rotated,-120)\n",
    "\n",
    "cv.imshow('window',rerotated)\n",
    "cv.waitKey(0)"
   ]
  },
  {
   "cell_type": "code",
   "execution_count": 28,
   "metadata": {},
   "outputs": [
    {
     "name": "stdout",
     "output_type": "stream",
     "text": [
      "314 contour(s) found!\n"
     ]
    },
    {
     "data": {
      "text/plain": [
       "-1"
      ]
     },
     "execution_count": 28,
     "metadata": {},
     "output_type": "execute_result"
    }
   ],
   "source": [
    "##Contour and edge detection\n",
    "img = cv.imread(\"image.jpg\")\n",
    "gray = cv.cvtColor(img,cv.COLOR_BGR2GRAY)\n",
    "\n",
    "\n",
    "blank_1 = np.zeros(img.shape,dtype='uint8')\n",
    "\n",
    "ret,thresh = cv.threshold(gray,125,255,cv.THRESH_BINARY)\n",
    "contours, hierarachies = cv.findContours(canny,cv.RETR_LIST,cv.CHAIN_APPROX_NONE)\n",
    "# cv.imshow('car',img)\n",
    "cv.imshow('canny',canny)\n",
    "# cv.imshow('thresh_1',thresh)\n",
    "print(f\"{len(contours)} contour(s) found!\")\n",
    "\n",
    "cv.drawContours(blank_1,contours,-1,(0,0,255),thickness=1)\n",
    "cv.imshow('thresh',blank_1)\n",
    "\n",
    "cv.waitKey(0)\n"
   ]
  },
  {
   "cell_type": "code",
   "execution_count": null,
   "metadata": {},
   "outputs": [],
   "source": []
  }
 ],
 "metadata": {
  "kernelspec": {
   "display_name": "Python 3",
   "language": "python",
   "name": "python3"
  },
  "language_info": {
   "codemirror_mode": {
    "name": "ipython",
    "version": 3
   },
   "file_extension": ".py",
   "mimetype": "text/x-python",
   "name": "python",
   "nbconvert_exporter": "python",
   "pygments_lexer": "ipython3",
   "version": "3.11.9"
  }
 },
 "nbformat": 4,
 "nbformat_minor": 2
}
