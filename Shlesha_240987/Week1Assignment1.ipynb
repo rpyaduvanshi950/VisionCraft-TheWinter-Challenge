{
 "cells": [
  {
   "cell_type": "markdown",
   "metadata": {
    "id": "UOzd0zRXW5Uv"
   },
   "source": [
    "# Week-1 Assignment\n",
    "\n",
    "*Welcome to your first assignment for the SimuTech Winter Project 2022! I hope you are excited to implement and test everything you have learned up until now. There is an interesting set of questions for you to refine your acquired skills as you delve into hands-on coding and deepen your understanding of numpy, pandas, and data visualization libraries.*"
   ]
  },
  {
   "cell_type": "markdown",
   "metadata": {
    "id": "2XFUXyq9Y9TG"
   },
   "source": [
    "# Section 0 : Importing Libraries"
   ]
  },
  {
   "cell_type": "markdown",
   "metadata": {
    "id": "D_bzcLusjSO0"
   },
   "source": [
    "*Let's begin by importing numpy, pandas and matplotlib.*"
   ]
  },
  {
   "cell_type": "markdown",
   "metadata": {
    "id": "jdwX7bI7aGeY"
   },
   "source": [
    "import pandas as pd\n",
    "import numpy as np\n",
    "import matplotlib.pyplot as plt"
   ]
  },
  {
   "cell_type": "markdown",
   "metadata": {
    "id": "LM25mz5ta-Q_"
   },
   "source": [
    "# Section 1 : Playing with Python and Numpy"
   ]
  },
  {
   "cell_type": "markdown",
   "metadata": {
    "id": "TcFQVqhAdQw_"
   },
   "source": [
    "### Q1. Matrix Multiplication"
   ]
  },
  {
   "cell_type": "markdown",
   "metadata": {
    "id": "6Dcai9pys0j8"
   },
   "source": [
    "##### (i) Check if matrix multiplication is valid"
   ]
  },
  {
   "cell_type": "code",
   "execution_count": 32,
   "metadata": {
    "id": "0qC4txIss3gG"
   },
   "outputs": [
    {
     "name": "stdout",
     "output_type": "stream",
     "text": [
      "Matrix multiplication is valid\n"
     ]
    }
   ],
   "source": [
    "import numpy as np\n",
    "def isValid(A,B):\n",
    "    shapeA = A.shape\n",
    "    shapeB = B.shape\n",
    "    return shapeA[1]==shapeB[0]\n",
    "if isValid(A,B):\n",
    "    print(\"Matrix multiplication is valid\")\n",
    "else:\n",
    "    print(\"Not valid\")"
   ]
  },
  {
   "cell_type": "markdown",
   "metadata": {
    "id": "OPTfRGlTdXxa"
   },
   "source": [
    "##### (ii) Using loops (without using numpy)"
   ]
  },
  {
   "cell_type": "code",
   "execution_count": 34,
   "metadata": {
    "id": "V8F5ETsRct3S"
   },
   "outputs": [
    {
     "name": "stdout",
     "output_type": "stream",
     "text": [
      "[102, 108, 114]\n",
      "[246, 261, 276]\n",
      "[390, 414, 438]\n",
      "[534, 567, 600]\n"
     ]
    }
   ],
   "source": [
    "def matrix_multiply(A,B):\n",
    "    product = [[sum(A[i][k] * B[k][j] for k in range(len(B)))\n",
    "            for j in range(len(B[0]))\n",
    "        ]\n",
    "        for i in range(len(A))\n",
    "    ]\n",
    "    return product\n",
    "\n",
    "product = matrix_multiply(A,B)\n",
    "for row in product:\n",
    "        print(row)"
   ]
  },
  {
   "cell_type": "markdown",
   "metadata": {
    "id": "umUgUTSWdos8"
   },
   "source": [
    "##### (iii) Using numpy"
   ]
  },
  {
   "cell_type": "code",
   "execution_count": 36,
   "metadata": {
    "id": "-tdXlCHrduBP"
   },
   "outputs": [],
   "source": [
    "def matrix_multiply_2(A,B):\n",
    "    mult = np.matmul(A,B)\n",
    "    return (mult)\n",
    "\n",
    "mult = matrix_multiply_2(A,B)"
   ]
  },
  {
   "cell_type": "markdown",
   "metadata": {
    "id": "2nMFnl84edJG"
   },
   "source": [
    "##### (iv) Testing your code\n",
    "\n",
    "Run the following cell to check if your functions are working properly.\n",
    "\n",
    "*Expected output:*\n",
    "[ [102 108 114]\n",
    " [246 261 276]\n",
    " [390 414 438]\n",
    " [534 567 600] ]"
   ]
  },
  {
   "cell_type": "code",
   "execution_count": 30,
   "metadata": {
    "id": "09rX_Cm9ezmq"
   },
   "outputs": [
    {
     "name": "stdout",
     "output_type": "stream",
     "text": [
      "Result using loops: [[102, 108, 114], [246, 261, 276], [390, 414, 438], [534, 567, 600]]\n",
      "Result using numpy: [[102 108 114]\n",
      " [246 261 276]\n",
      " [390 414 438]\n",
      " [534 567 600]]\n"
     ]
    }
   ],
   "source": [
    "A = np.array([\n",
    "    [1, 2, 3],\n",
    "    [4, 5, 6],\n",
    "    [7, 8, 9],\n",
    "    [10, 11, 12]\n",
    "])\n",
    "\n",
    "B = np.array([\n",
    "    [13, 14, 15],\n",
    "    [16, 17, 18],\n",
    "    [19, 20, 21]\n",
    "])\n",
    "\n",
    "if isValid(A,B):\n",
    "  print(f\"Result using loops: {matrix_multiply(A,B)}\")\n",
    "  print(f\"Result using numpy: {matrix_multiply_2(A,B)}\")\n",
    "else:\n",
    "  print(f\"Matrix multiplication is not valid\")"
   ]
  },
  {
   "cell_type": "markdown",
   "metadata": {
    "id": "5hfP7Ao1fwqV"
   },
   "source": [
    "### Q2. Z-Score Normalisation"
   ]
  },
  {
   "cell_type": "markdown",
   "metadata": {
    "id": "0e81Xx5Kw_CQ"
   },
   "source": [
    "Z-score normalization refers to the process of normalizing every value in a dataset such that the mean of all of the values is 0 and the standard deviation is 1.\n",
    "\n",
    "We use the following formula to perform a z-score normalization on every value in a dataset:\n",
    "\n",
    "New value = (x – μ) / σ\n",
    "\n",
    "where:\n",
    "\n",
    "x: Original value\n",
    "\n",
    "μ: Mean of data\n",
    "\n",
    "σ: Standard deviation of data"
   ]
  },
  {
   "cell_type": "markdown",
   "metadata": {
    "id": "GP_MuyUbguSR"
   },
   "source": [
    "##### (i) Without using numpy"
   ]
  },
  {
   "cell_type": "code",
   "execution_count": 38,
   "metadata": {
    "id": "0vix8qaaghwP"
   },
   "outputs": [],
   "source": [
    "def mean(x):\n",
    "    m = sum(x)/len(x)\n",
    "    return (m)"
   ]
  },
  {
   "cell_type": "code",
   "execution_count": 46,
   "metadata": {
    "id": "j1qabel-g_f5"
   },
   "outputs": [],
   "source": [
    "def standard_deviation(x):\n",
    "    m = mean(x)\n",
    "    stddev = (sum((i - m) ** 2 for i in x) / len(x)) ** 0.5\n",
    "    return (stddev)\n",
    "    "
   ]
  },
  {
   "cell_type": "code",
   "execution_count": 48,
   "metadata": {
    "id": "797ewbNqhEpY"
   },
   "outputs": [],
   "source": [
    "def zscore_normalisation(x):\n",
    "    μ = mean(x)\n",
    "    σ = standard_deviation(x)\n",
    "    value =[(i-μ)/σ for i in x]\n",
    "    return (value)\n",
    "\n",
    "value = zscore_normalisation(x)"
   ]
  },
  {
   "cell_type": "markdown",
   "metadata": {
    "id": "k8dq1wqRhbUB"
   },
   "source": [
    "##### (ii) Using numpy\n",
    "\n",
    "Numpy has in_built functions for calculating mean and standard deviation"
   ]
  },
  {
   "cell_type": "code",
   "execution_count": 50,
   "metadata": {
    "id": "WjxJTUDihsYg"
   },
   "outputs": [],
   "source": [
    "import numpy as np\n",
    "def zscore_normalisation_2(x):\n",
    "    μ = np.mean(x)\n",
    "    σ = np.std(x) \n",
    "    newvalue = [(i - μ) / σ for i in x]\n",
    "    return newvalue"
   ]
  },
  {
   "cell_type": "markdown",
   "metadata": {
    "id": "glRqKU-_1pue"
   },
   "source": [
    "##### (iii) Testing your code"
   ]
  },
  {
   "cell_type": "markdown",
   "metadata": {
    "id": "Kl7XBymOigCU"
   },
   "source": [
    "Run the following cell to check if your functions are working properly.\n",
    "\n",
    "*Expected Output:* [-1.06753267 -0.99745394 -0.99745394 -0.81057732 -0.41346451 -0.06307086\n",
    "  0.31068237  0.91803138  1.22170588  1.89913361]"
   ]
  },
  {
   "cell_type": "code",
   "execution_count": 52,
   "metadata": {
    "id": "78ptZxf6ipZp"
   },
   "outputs": [
    {
     "name": "stdout",
     "output_type": "stream",
     "text": [
      "Result without using numpy: [-1.0675326683028088, -0.9974539373420117, -0.9974539373420117, -0.8105773214465528, -0.41346451266870277, -0.06307085786471743, 0.3106823739262003, 0.9180313755864415, 1.2217058764165623, 1.8991336090376005]\n",
      "Result using numpy: [-1.0675326683028088, -0.9974539373420117, -0.9974539373420117, -0.8105773214465528, -0.41346451266870277, -0.06307085786471743, 0.3106823739262003, 0.9180313755864415, 1.2217058764165623, 1.8991336090376005]\n"
     ]
    }
   ],
   "source": [
    "x = [4, 7, 7, 15, 32, 47, 63, 89, 102, 131]\n",
    "print(f\"Result without using numpy: {zscore_normalisation(x)}\")\n",
    "print(f\"Result using numpy: {zscore_normalisation_2(x)}\")"
   ]
  },
  {
   "cell_type": "markdown",
   "metadata": {
    "id": "0WVscJ0z14rp"
   },
   "source": [
    "### Q3. Sigmoid fn and its derivative"
   ]
  },
  {
   "cell_type": "markdown",
   "metadata": {
    "id": "Jfntb0Rg94Tu"
   },
   "source": [
    "The sigmoid function is a mathematical function that maps any input value to a value between 0 and 1.\n",
    "\n",
    "It is defined mathematically as s(x) = 1/(1+e^(-x))."
   ]
  },
  {
   "cell_type": "markdown",
   "metadata": {
    "id": "8SCAPkjO2m7u"
   },
   "source": [
    "##### (i) Write a fn to implement sigmoid fn"
   ]
  },
  {
   "cell_type": "code",
   "execution_count": 54,
   "metadata": {
    "id": "jL_TRQFG2l5m"
   },
   "outputs": [],
   "source": [
    "import numpy as np\n",
    "def sigmoidfn(x):\n",
    "    y = 1/(1+ np.exp(-x))\n",
    "    return y"
   ]
  },
  {
   "cell_type": "markdown",
   "metadata": {
    "id": "t7KBbl7N3AUM"
   },
   "source": [
    "##### (ii) Write a fn to implement derivative of sigmoid fn"
   ]
  },
  {
   "cell_type": "code",
   "execution_count": 56,
   "metadata": {
    "id": "okjuOpba3KOJ"
   },
   "outputs": [],
   "source": [
    "import numpy as np\n",
    "def derivative(x):\n",
    "    sig = sigmoidfn(x)\n",
    "    k = -sig*(1-sig)\n",
    "    return k\n",
    "    "
   ]
  },
  {
   "cell_type": "markdown",
   "metadata": {
    "id": "NdGTSpsp3mwr"
   },
   "source": [
    "##### (iii) Test your code"
   ]
  },
  {
   "cell_type": "markdown",
   "metadata": {
    "id": "lWY8RBex7gnd"
   },
   "source": [
    "Run the following cell to check if your functions are working properly.\n",
    "\n",
    "*Expected output:*\n",
    "\n",
    "x on applying sigmoid activation fn is: [ [0.99987661 0.88079708 0.99330715 0.5        0.5       ]\n",
    " [0.99908895 0.99330715 0.5        0.5        0.5       ] ]\n",
    "\n",
    "x on applying derivative of sigmoid activation fn is: [ [-1.23379350e-04 -1.04993585e-01 -6.64805667e-03 -2.50000000e-01\n",
    "  -2.50000000e-01]\n",
    " [-9.10221180e-04 -6.64805667e-03 -2.50000000e-01 -2.50000000e-01\n",
    "  -2.50000000e-01] ]"
   ]
  },
  {
   "cell_type": "code",
   "execution_count": 58,
   "metadata": {
    "id": "ssDGpmS33vdA"
   },
   "outputs": [
    {
     "name": "stdout",
     "output_type": "stream",
     "text": [
      "x on applying sigmoid activation fn is: [[0.99987661 0.88079708 0.99330715 0.5        0.5       ]\n",
      " [0.99908895 0.99330715 0.5        0.5        0.5       ]]\n",
      "x on applying derivative of sigmoid activation fn is: [[-1.23379350e-04 -1.04993585e-01 -6.64805667e-03 -2.50000000e-01\n",
      "  -2.50000000e-01]\n",
      " [-9.10221180e-04 -6.64805667e-03 -2.50000000e-01 -2.50000000e-01\n",
      "  -2.50000000e-01]]\n"
     ]
    }
   ],
   "source": [
    "x = np.array([\n",
    "    [9,2,5,0,0],\n",
    "    [7,5,0,0,0]\n",
    "])\n",
    "print(f\"x on applying sigmoid activation fn is: {sigmoidfn(x)}\")\n",
    "print(f\"x on applying derivative of sigmoid activation fn is: {derivative(x)}\")"
   ]
  },
  {
   "cell_type": "markdown",
   "metadata": {
    "id": "PMa0cseyZpa1"
   },
   "source": [
    "# Section 2: Exploring Pandas"
   ]
  },
  {
   "cell_type": "markdown",
   "metadata": {
    "id": "DB8e0KVGqV5I"
   },
   "source": [
    "*You have been provided with a dataset which includes information about properties of superheated vapor.*\n",
    "\n",
    "*The dataset consists of the thermophysical properties: specific volume, specific internal energy, specific enthalpy, specific entropy of superheated vapor.*\n",
    "\n",
    "*Pressure is in kPa and Temperature in centigrade. In the dataframe 75, 100, 125, etc. are temperatures.*"
   ]
  },
  {
   "cell_type": "markdown",
   "metadata": {
    "id": "i5Okb_jxZ_VW"
   },
   "source": [
    "### Read the csv file\n"
   ]
  },
  {
   "cell_type": "code",
   "execution_count": 60,
   "metadata": {
    "id": "aQgvyavrcM1l"
   },
   "outputs": [
    {
     "data": {
      "text/html": [
       "<div>\n",
       "<style scoped>\n",
       "    .dataframe tbody tr th:only-of-type {\n",
       "        vertical-align: middle;\n",
       "    }\n",
       "\n",
       "    .dataframe tbody tr th {\n",
       "        vertical-align: top;\n",
       "    }\n",
       "\n",
       "    .dataframe thead th {\n",
       "        text-align: right;\n",
       "    }\n",
       "</style>\n",
       "<table border=\"1\" class=\"dataframe\">\n",
       "  <thead>\n",
       "    <tr style=\"text-align: right;\">\n",
       "      <th></th>\n",
       "      <th></th>\n",
       "      <th></th>\n",
       "      <th></th>\n",
       "      <th></th>\n",
       "      <th></th>\n",
       "      <th></th>\n",
       "      <th></th>\n",
       "      <th></th>\n",
       "      <th></th>\n",
       "      <th></th>\n",
       "      <th></th>\n",
       "      <th></th>\n",
       "      <th></th>\n",
       "      <th></th>\n",
       "      <th></th>\n",
       "      <th></th>\n",
       "      <th></th>\n",
       "      <th></th>\n",
       "      <th></th>\n",
       "      <th></th>\n",
       "      <th></th>\n",
       "      <th></th>\n",
       "      <th></th>\n",
       "      <th></th>\n",
       "      <th></th>\n",
       "      <th></th>\n",
       "      <th></th>\n",
       "      <th></th>\n",
       "      <th></th>\n",
       "      <th></th>\n",
       "      <th></th>\n",
       "      <th></th>\n",
       "      <th></th>\n",
       "      <th></th>\n",
       "      <th></th>\n",
       "      <th>&lt;&lt;&lt;&lt;&lt;&lt;&lt; HEAD</th>\n",
       "    </tr>\n",
       "  </thead>\n",
       "  <tbody>\n",
       "    <tr>\n",
       "      <th>Pressure</th>\n",
       "      <th>Property</th>\n",
       "      <th>Liq_Sat</th>\n",
       "      <th>Vap_Sat</th>\n",
       "      <th>75.0000</th>\n",
       "      <th>100.0000</th>\n",
       "      <th>125.0000</th>\n",
       "      <th>150.0000</th>\n",
       "      <th>175.0000</th>\n",
       "      <th>200.0000</th>\n",
       "      <th>220.0</th>\n",
       "      <th>225.0000</th>\n",
       "      <th>240.0</th>\n",
       "      <th>250.0000</th>\n",
       "      <th>260.0</th>\n",
       "      <th>275.0</th>\n",
       "      <th>280.0</th>\n",
       "      <th>290.0</th>\n",
       "      <th>300.000</th>\n",
       "      <th>320.0</th>\n",
       "      <th>325.0</th>\n",
       "      <th>340.0000</th>\n",
       "      <th>350.0000</th>\n",
       "      <th>360.000</th>\n",
       "      <th>375.0</th>\n",
       "      <th>380.0000</th>\n",
       "      <th>400.0000</th>\n",
       "      <th>425.0000</th>\n",
       "      <th>450.0000</th>\n",
       "      <th>475.0000</th>\n",
       "      <th>500.0000</th>\n",
       "      <th>525.0000</th>\n",
       "      <th>550.0000</th>\n",
       "      <th>575.000</th>\n",
       "      <th>600.0000</th>\n",
       "      <th>625.0000</th>\n",
       "      <td>650.0000</td>\n",
       "    </tr>\n",
       "    <tr>\n",
       "      <th rowspan=\"4\" valign=\"top\">1</th>\n",
       "      <th>V</th>\n",
       "      <th>1</th>\n",
       "      <th>129200</th>\n",
       "      <th>160640.0000</th>\n",
       "      <th>172180.0000</th>\n",
       "      <th>183720.0000</th>\n",
       "      <th>195270.0000</th>\n",
       "      <th>206810.0000</th>\n",
       "      <th>218350.0000</th>\n",
       "      <th>NaN</th>\n",
       "      <th>229890.0000</th>\n",
       "      <th>NaN</th>\n",
       "      <th>241430.0000</th>\n",
       "      <th>NaN</th>\n",
       "      <th>NaN</th>\n",
       "      <th>NaN</th>\n",
       "      <th>NaN</th>\n",
       "      <th>264500.000</th>\n",
       "      <th>NaN</th>\n",
       "      <th>NaN</th>\n",
       "      <th>NaN</th>\n",
       "      <th>287580.0000</th>\n",
       "      <th>NaN</th>\n",
       "      <th>NaN</th>\n",
       "      <th>NaN</th>\n",
       "      <th>310660.0000</th>\n",
       "      <th>NaN</th>\n",
       "      <th>333730.0000</th>\n",
       "      <th>NaN</th>\n",
       "      <th>356810.0000</th>\n",
       "      <th>NaN</th>\n",
       "      <th>379880.0000</th>\n",
       "      <th>NaN</th>\n",
       "      <th>402960.0000</th>\n",
       "      <th>NaN</th>\n",
       "      <td>426040.0000</td>\n",
       "    </tr>\n",
       "    <tr>\n",
       "      <th>U</th>\n",
       "      <th>29.334</th>\n",
       "      <th>2385.2</th>\n",
       "      <th>2480.8000</th>\n",
       "      <th>2516.4000</th>\n",
       "      <th>2552.3000</th>\n",
       "      <th>2588.5000</th>\n",
       "      <th>2624.9000</th>\n",
       "      <th>2661.7000</th>\n",
       "      <th>NaN</th>\n",
       "      <th>2698.8000</th>\n",
       "      <th>NaN</th>\n",
       "      <th>2736.3000</th>\n",
       "      <th>NaN</th>\n",
       "      <th>NaN</th>\n",
       "      <th>NaN</th>\n",
       "      <th>NaN</th>\n",
       "      <th>2812.300</th>\n",
       "      <th>NaN</th>\n",
       "      <th>NaN</th>\n",
       "      <th>NaN</th>\n",
       "      <th>2889.9000</th>\n",
       "      <th>NaN</th>\n",
       "      <th>NaN</th>\n",
       "      <th>NaN</th>\n",
       "      <th>2969.1000</th>\n",
       "      <th>NaN</th>\n",
       "      <th>3049.9000</th>\n",
       "      <th>NaN</th>\n",
       "      <th>3132.4000</th>\n",
       "      <th>NaN</th>\n",
       "      <th>3216.7000</th>\n",
       "      <th>NaN</th>\n",
       "      <th>3302.6000</th>\n",
       "      <th>NaN</th>\n",
       "      <td>3390.3000</td>\n",
       "    </tr>\n",
       "    <tr>\n",
       "      <th>H</th>\n",
       "      <th>29.335</th>\n",
       "      <th>2514.4</th>\n",
       "      <th>2641.5000</th>\n",
       "      <th>2688.6000</th>\n",
       "      <th>2736.0000</th>\n",
       "      <th>2783.7000</th>\n",
       "      <th>2831.7000</th>\n",
       "      <th>2880.1000</th>\n",
       "      <th>NaN</th>\n",
       "      <th>2928.7000</th>\n",
       "      <th>NaN</th>\n",
       "      <th>2977.7000</th>\n",
       "      <th>NaN</th>\n",
       "      <th>NaN</th>\n",
       "      <th>NaN</th>\n",
       "      <th>NaN</th>\n",
       "      <th>3076.800</th>\n",
       "      <th>NaN</th>\n",
       "      <th>NaN</th>\n",
       "      <th>NaN</th>\n",
       "      <th>3177.5000</th>\n",
       "      <th>NaN</th>\n",
       "      <th>NaN</th>\n",
       "      <th>NaN</th>\n",
       "      <th>3279.7000</th>\n",
       "      <th>NaN</th>\n",
       "      <th>3383.6000</th>\n",
       "      <th>NaN</th>\n",
       "      <th>3489.2000</th>\n",
       "      <th>NaN</th>\n",
       "      <th>3596.5000</th>\n",
       "      <th>NaN</th>\n",
       "      <th>3705.6000</th>\n",
       "      <th>NaN</th>\n",
       "      <td>3816.4000</td>\n",
       "    </tr>\n",
       "    <tr>\n",
       "      <th>S</th>\n",
       "      <th>0.106</th>\n",
       "      <th>8.9767</th>\n",
       "      <th>9.3828</th>\n",
       "      <th>9.5136</th>\n",
       "      <th>9.6365</th>\n",
       "      <th>9.7527</th>\n",
       "      <th>9.8629</th>\n",
       "      <th>9.9679</th>\n",
       "      <th>NaN</th>\n",
       "      <th>10.0681</th>\n",
       "      <th>NaN</th>\n",
       "      <th>10.1641</th>\n",
       "      <th>NaN</th>\n",
       "      <th>NaN</th>\n",
       "      <th>NaN</th>\n",
       "      <th>NaN</th>\n",
       "      <th>10.345</th>\n",
       "      <th>NaN</th>\n",
       "      <th>NaN</th>\n",
       "      <th>NaN</th>\n",
       "      <th>10.5133</th>\n",
       "      <th>NaN</th>\n",
       "      <th>NaN</th>\n",
       "      <th>NaN</th>\n",
       "      <th>10.6711</th>\n",
       "      <th>NaN</th>\n",
       "      <th>10.8200</th>\n",
       "      <th>NaN</th>\n",
       "      <th>10.9612</th>\n",
       "      <th>NaN</th>\n",
       "      <th>11.0957</th>\n",
       "      <th>NaN</th>\n",
       "      <th>11.2243</th>\n",
       "      <th>NaN</th>\n",
       "      <td>11.3476</td>\n",
       "    </tr>\n",
       "    <tr>\n",
       "      <th>...</th>\n",
       "      <th>...</th>\n",
       "      <th>...</th>\n",
       "      <th>...</th>\n",
       "      <th>...</th>\n",
       "      <th>...</th>\n",
       "      <th>...</th>\n",
       "      <th>...</th>\n",
       "      <th>...</th>\n",
       "      <th>...</th>\n",
       "      <th>...</th>\n",
       "      <th>...</th>\n",
       "      <th>...</th>\n",
       "      <th>...</th>\n",
       "      <th>...</th>\n",
       "      <th>...</th>\n",
       "      <th>...</th>\n",
       "      <th>...</th>\n",
       "      <th>...</th>\n",
       "      <th>...</th>\n",
       "      <th>...</th>\n",
       "      <th>...</th>\n",
       "      <th>...</th>\n",
       "      <th>...</th>\n",
       "      <th>...</th>\n",
       "      <th>...</th>\n",
       "      <th>...</th>\n",
       "      <th>...</th>\n",
       "      <th>...</th>\n",
       "      <th>...</th>\n",
       "      <th>...</th>\n",
       "      <th>...</th>\n",
       "      <th>...</th>\n",
       "      <th>...</th>\n",
       "      <th>...</th>\n",
       "      <th>...</th>\n",
       "      <td>...</td>\n",
       "    </tr>\n",
       "    <tr>\n",
       "      <th rowspan=\"3\" valign=\"top\">11400</th>\n",
       "      <th>V</th>\n",
       "      <th>1.504</th>\n",
       "      <th>15.284</th>\n",
       "      <th>NaN</th>\n",
       "      <th>NaN</th>\n",
       "      <th>NaN</th>\n",
       "      <th>NaN</th>\n",
       "      <th>NaN</th>\n",
       "      <th>NaN</th>\n",
       "      <th>NaN</th>\n",
       "      <th>NaN</th>\n",
       "      <th>NaN</th>\n",
       "      <th>NaN</th>\n",
       "      <th>NaN</th>\n",
       "      <th>NaN</th>\n",
       "      <th>NaN</th>\n",
       "      <th>NaN</th>\n",
       "      <th>NaN</th>\n",
       "      <th>NaN</th>\n",
       "      <th>NaN</th>\n",
       "      <th>17.6220</th>\n",
       "      <th>NaN</th>\n",
       "      <th>19.495</th>\n",
       "      <th>NaN</th>\n",
       "      <th>21.0790</th>\n",
       "      <th>22.4920</th>\n",
       "      <th>24.1040</th>\n",
       "      <th>25.5990</th>\n",
       "      <th>27.0100</th>\n",
       "      <th>28.3590</th>\n",
       "      <th>29.6610</th>\n",
       "      <th>30.9250</th>\n",
       "      <th>32.160</th>\n",
       "      <th>33.3700</th>\n",
       "      <th>34.5600</th>\n",
       "      <td>35.7330</td>\n",
       "    </tr>\n",
       "    <tr>\n",
       "      <th>U</th>\n",
       "      <th>1450</th>\n",
       "      <th>2527.2</th>\n",
       "      <th>NaN</th>\n",
       "      <th>NaN</th>\n",
       "      <th>NaN</th>\n",
       "      <th>NaN</th>\n",
       "      <th>NaN</th>\n",
       "      <th>NaN</th>\n",
       "      <th>NaN</th>\n",
       "      <th>NaN</th>\n",
       "      <th>NaN</th>\n",
       "      <th>NaN</th>\n",
       "      <th>NaN</th>\n",
       "      <th>NaN</th>\n",
       "      <th>NaN</th>\n",
       "      <th>NaN</th>\n",
       "      <th>NaN</th>\n",
       "      <th>NaN</th>\n",
       "      <th>NaN</th>\n",
       "      <th>2622.7000</th>\n",
       "      <th>NaN</th>\n",
       "      <th>2697.000</th>\n",
       "      <th>NaN</th>\n",
       "      <th>2758.4000</th>\n",
       "      <th>2812.3000</th>\n",
       "      <th>2873.1000</th>\n",
       "      <th>2929.4000</th>\n",
       "      <th>2982.6000</th>\n",
       "      <th>3033.9000</th>\n",
       "      <th>3083.9000</th>\n",
       "      <th>3133.1000</th>\n",
       "      <th>3181.900</th>\n",
       "      <th>3230.4000</th>\n",
       "      <th>3278.8000</th>\n",
       "      <td>3327.2000</td>\n",
       "    </tr>\n",
       "    <tr>\n",
       "      <th>H</th>\n",
       "      <th>1467.2</th>\n",
       "      <th>2701.5</th>\n",
       "      <th>NaN</th>\n",
       "      <th>NaN</th>\n",
       "      <th>NaN</th>\n",
       "      <th>NaN</th>\n",
       "      <th>NaN</th>\n",
       "      <th>NaN</th>\n",
       "      <th>NaN</th>\n",
       "      <th>NaN</th>\n",
       "      <th>NaN</th>\n",
       "      <th>NaN</th>\n",
       "      <th>NaN</th>\n",
       "      <th>NaN</th>\n",
       "      <th>NaN</th>\n",
       "      <th>NaN</th>\n",
       "      <th>NaN</th>\n",
       "      <th>NaN</th>\n",
       "      <th>NaN</th>\n",
       "      <th>2823.6000</th>\n",
       "      <th>NaN</th>\n",
       "      <th>2919.300</th>\n",
       "      <th>NaN</th>\n",
       "      <th>2998.7000</th>\n",
       "      <th>3068.7000</th>\n",
       "      <th>3147.9000</th>\n",
       "      <th>3221.2000</th>\n",
       "      <th>3290.5000</th>\n",
       "      <th>3357.2000</th>\n",
       "      <th>3422.1000</th>\n",
       "      <th>3485.7000</th>\n",
       "      <th>3548.500</th>\n",
       "      <th>3610.8000</th>\n",
       "      <th>3672.8000</th>\n",
       "      <td>3734.6000</td>\n",
       "    </tr>\n",
       "    <tr>\n",
       "      <th>&gt;&gt;&gt;&gt;&gt;&gt;&gt; 26c7cfb764a3f067c96a00685665a6238c971a2b</th>\n",
       "      <th>NaN</th>\n",
       "      <th>NaN</th>\n",
       "      <th>NaN</th>\n",
       "      <th>NaN</th>\n",
       "      <th>NaN</th>\n",
       "      <th>NaN</th>\n",
       "      <th>NaN</th>\n",
       "      <th>NaN</th>\n",
       "      <th>NaN</th>\n",
       "      <th>NaN</th>\n",
       "      <th>NaN</th>\n",
       "      <th>NaN</th>\n",
       "      <th>NaN</th>\n",
       "      <th>NaN</th>\n",
       "      <th>NaN</th>\n",
       "      <th>NaN</th>\n",
       "      <th>NaN</th>\n",
       "      <th>NaN</th>\n",
       "      <th>NaN</th>\n",
       "      <th>NaN</th>\n",
       "      <th>NaN</th>\n",
       "      <th>NaN</th>\n",
       "      <th>NaN</th>\n",
       "      <th>NaN</th>\n",
       "      <th>NaN</th>\n",
       "      <th>NaN</th>\n",
       "      <th>NaN</th>\n",
       "      <th>NaN</th>\n",
       "      <th>NaN</th>\n",
       "      <th>NaN</th>\n",
       "      <th>NaN</th>\n",
       "      <th>NaN</th>\n",
       "      <th>NaN</th>\n",
       "      <th>NaN</th>\n",
       "      <th>NaN</th>\n",
       "      <td>NaN</td>\n",
       "    </tr>\n",
       "    <tr>\n",
       "      <th>11400</th>\n",
       "      <th>S</th>\n",
       "      <th>3.4575</th>\n",
       "      <th>5.5357</th>\n",
       "      <th>NaN</th>\n",
       "      <th>NaN</th>\n",
       "      <th>NaN</th>\n",
       "      <th>NaN</th>\n",
       "      <th>NaN</th>\n",
       "      <th>NaN</th>\n",
       "      <th>NaN</th>\n",
       "      <th>NaN</th>\n",
       "      <th>NaN</th>\n",
       "      <th>NaN</th>\n",
       "      <th>NaN</th>\n",
       "      <th>NaN</th>\n",
       "      <th>NaN</th>\n",
       "      <th>NaN</th>\n",
       "      <th>NaN</th>\n",
       "      <th>NaN</th>\n",
       "      <th>NaN</th>\n",
       "      <th>5.7383</th>\n",
       "      <th>NaN</th>\n",
       "      <th>5.892</th>\n",
       "      <th>NaN</th>\n",
       "      <th>6.0156</th>\n",
       "      <th>6.1211</th>\n",
       "      <th>6.2367</th>\n",
       "      <th>6.3399</th>\n",
       "      <th>6.4341</th>\n",
       "      <th>6.5218</th>\n",
       "      <th>6.6043</th>\n",
       "      <th>6.6828</th>\n",
       "      <th>6.758</th>\n",
       "      <th>6.8304</th>\n",
       "      <th>6.9004</th>\n",
       "      <td>6.9683</td>\n",
       "    </tr>\n",
       "  </tbody>\n",
       "</table>\n",
       "<p>1091 rows × 1 columns</p>\n",
       "</div>"
      ],
      "text/plain": [
       "                                                                                                                                                                                                                                                                                                                                                                                                           <<<<<<< HEAD\n",
       "Pressure                                         Property Liq_Sat Vap_Sat 75.0000     100.0000    125.0000    150.0000    175.0000    200.0000    220.0  225.0000    240.0  250.0000    260.0  275.0  280.0  290.0  300.000    320.0  325.0  340.0000  350.0000    360.000  375.0  380.0000  400.0000    425.0000  450.0000    475.0000  500.0000    525.0000  550.0000    575.000  600.0000    625.0000       650.0000\n",
       "1                                                V        1       129200  160640.0000 172180.0000 183720.0000 195270.0000 206810.0000 218350.0000 NaN    229890.0000 NaN    241430.0000 NaN    NaN    NaN    NaN    264500.000 NaN    NaN    NaN       287580.0000 NaN      NaN    NaN       310660.0000 NaN       333730.0000 NaN       356810.0000 NaN       379880.0000 NaN      402960.0000 NaN         426040.0000\n",
       "                                                 U        29.334  2385.2  2480.8000   2516.4000   2552.3000   2588.5000   2624.9000   2661.7000   NaN    2698.8000   NaN    2736.3000   NaN    NaN    NaN    NaN    2812.300   NaN    NaN    NaN       2889.9000   NaN      NaN    NaN       2969.1000   NaN       3049.9000   NaN       3132.4000   NaN       3216.7000   NaN      3302.6000   NaN           3390.3000\n",
       "                                                 H        29.335  2514.4  2641.5000   2688.6000   2736.0000   2783.7000   2831.7000   2880.1000   NaN    2928.7000   NaN    2977.7000   NaN    NaN    NaN    NaN    3076.800   NaN    NaN    NaN       3177.5000   NaN      NaN    NaN       3279.7000   NaN       3383.6000   NaN       3489.2000   NaN       3596.5000   NaN      3705.6000   NaN           3816.4000\n",
       "                                                 S        0.106   8.9767  9.3828      9.5136      9.6365      9.7527      9.8629      9.9679      NaN    10.0681     NaN    10.1641     NaN    NaN    NaN    NaN    10.345     NaN    NaN    NaN       10.5133     NaN      NaN    NaN       10.6711     NaN       10.8200     NaN       10.9612     NaN       11.0957     NaN      11.2243     NaN             11.3476\n",
       "...                                                                                                                                                                                                                                                                                                                                                                                                                 ...\n",
       "11400                                            V        1.504   15.284  NaN         NaN         NaN         NaN         NaN         NaN         NaN    NaN         NaN    NaN         NaN    NaN    NaN    NaN    NaN        NaN    NaN    17.6220   NaN         19.495   NaN    21.0790   22.4920     24.1040   25.5990     27.0100   28.3590     29.6610   30.9250     32.160   33.3700     34.5600         35.7330\n",
       "                                                 U        1450    2527.2  NaN         NaN         NaN         NaN         NaN         NaN         NaN    NaN         NaN    NaN         NaN    NaN    NaN    NaN    NaN        NaN    NaN    2622.7000 NaN         2697.000 NaN    2758.4000 2812.3000   2873.1000 2929.4000   2982.6000 3033.9000   3083.9000 3133.1000   3181.900 3230.4000   3278.8000     3327.2000\n",
       "                                                 H        1467.2  2701.5  NaN         NaN         NaN         NaN         NaN         NaN         NaN    NaN         NaN    NaN         NaN    NaN    NaN    NaN    NaN        NaN    NaN    2823.6000 NaN         2919.300 NaN    2998.7000 3068.7000   3147.9000 3221.2000   3290.5000 3357.2000   3422.1000 3485.7000   3548.500 3610.8000   3672.8000     3734.6000\n",
       ">>>>>>> 26c7cfb764a3f067c96a00685665a6238c971a2b NaN      NaN     NaN     NaN         NaN         NaN         NaN         NaN         NaN         NaN    NaN         NaN    NaN         NaN    NaN    NaN    NaN    NaN        NaN    NaN    NaN       NaN         NaN      NaN    NaN       NaN         NaN       NaN         NaN       NaN         NaN       NaN         NaN      NaN         NaN                 NaN\n",
       "11400                                            S        3.4575  5.5357  NaN         NaN         NaN         NaN         NaN         NaN         NaN    NaN         NaN    NaN         NaN    NaN    NaN    NaN    NaN        NaN    NaN    5.7383    NaN         5.892    NaN    6.0156    6.1211      6.2367    6.3399      6.4341    6.5218      6.6043    6.6828      6.758    6.8304      6.9004           6.9683\n",
       "\n",
       "[1091 rows x 1 columns]"
      ]
     },
     "metadata": {},
     "output_type": "display_data"
    }
   ],
   "source": [
    "import pandas as pd\n",
    "df = pd.read_csv('superheated_vapor_properties.csv')\n",
    "display(df)"
   ]
  },
  {
   "cell_type": "markdown",
   "metadata": {
    "id": "Zp8F3rk2cNxy"
   },
   "source": [
    "### Display the shape of data frame\n"
   ]
  },
  {
   "cell_type": "code",
   "execution_count": 62,
   "metadata": {
    "id": "v3Q8kQkucgK0"
   },
   "outputs": [
    {
     "name": "stdout",
     "output_type": "stream",
     "text": [
      "(1091, 1)\n"
     ]
    }
   ],
   "source": [
    "print(df.shape)"
   ]
  },
  {
   "cell_type": "markdown",
   "metadata": {
    "id": "w49cp-8zcgd2"
   },
   "source": [
    "### Return an array containing names of all the columns"
   ]
  },
  {
   "cell_type": "code",
   "execution_count": 64,
   "metadata": {
    "id": "fz4HRb3JcsZp"
   },
   "outputs": [
    {
     "name": "stdout",
     "output_type": "stream",
     "text": [
      "['<<<<<<< HEAD']\n"
     ]
    }
   ],
   "source": [
    "colname = df.columns.to_numpy()\n",
    "print(colname)"
   ]
  },
  {
   "cell_type": "markdown",
   "metadata": {
    "id": "YkTH9tRWcrH-"
   },
   "source": [
    "### Display the number of null values in each column of the dataframe\n",
    "\n"
   ]
  },
  {
   "cell_type": "code",
   "execution_count": 66,
   "metadata": {
    "id": "GK9-PJPxc3Ot"
   },
   "outputs": [
    {
     "name": "stdout",
     "output_type": "stream",
     "text": [
      "<<<<<<< HEAD    2\n",
      "dtype: int64\n"
     ]
    }
   ],
   "source": [
    "null = df.isnull().sum()\n",
    "print(null)"
   ]
  },
  {
   "cell_type": "markdown",
   "metadata": {
    "id": "Av-lcft2c3mx"
   },
   "source": [
    "### Create a column which contains the Pressure and Property columns, seperated with 'at' (For eg. V at 1, H at 101.325). Using this print the following:\n",
    "- Enthalpy at 75 kPa and 573 K\n",
    "- Entropy at 493 K and 250 kPa\n",
    "\n"
   ]
  },
  {
   "cell_type": "code",
   "execution_count": null,
   "metadata": {
    "id": "B2AihQj_c32C"
   },
   "outputs": [],
   "source": [
    "import pandas as pd\n",
    "data = {'Property': ['Enthalpy', 'Entropy'],'Pressure': [75, 250],'Temperature': [573, 493] }\n",
    "df['Property_at_Pressure'] = df['Property'] + ' at ' + df['Pressure'].astype(str) + ' kPa'\n",
    "print(df)\n",
    "print(\"\\nEnthalpy at 75 kPa and 573 K\")\n",
    "print(\"Entropy at 493 K and 250 kPa\")"
   ]
  },
  {
   "cell_type": "markdown",
   "metadata": {
    "id": "GpLtXYRLc4Ho"
   },
   "source": [
    "### Find out the column with the highest number of missing values"
   ]
  },
  {
   "cell_type": "code",
   "execution_count": null,
   "metadata": {
    "id": "q80Grgeyc4Xn"
   },
   "outputs": [],
   "source": [
    "import pandas as pd\n",
    "null = df.isnull().sum()\n",
    "columnwithnull = null.idxmax()\n",
    "print(\"column with the highest number of missing values: \", columnwithnull)"
   ]
  },
  {
   "cell_type": "markdown",
   "metadata": {
    "id": "74NVHTTac4nv"
   },
   "source": [
    "### What is the average enthalpy of Sat. Liq. at all different pressures in the dataset?"
   ]
  },
  {
   "cell_type": "code",
   "execution_count": null,
   "metadata": {
    "id": "g3mByhBDdpVr"
   },
   "outputs": [],
   "source": [
    "avgenthalpy=df.['Liq_Sat'].mean()"
   ]
  },
  {
   "cell_type": "markdown",
   "metadata": {
    "id": "uS-SuqU8dpxg"
   },
   "source": [
    "### Separate out the V,U,H,S data from the dataset into V_data, U_data, H_data, S_data"
   ]
  },
  {
   "cell_type": "code",
   "execution_count": null,
   "metadata": {
    "id": "Sg3V9Toyd1Av"
   },
   "outputs": [],
   "source": [
    "#your code here"
   ]
  },
  {
   "cell_type": "markdown",
   "metadata": {
    "id": "aiNiwCZyqV5U"
   },
   "source": [
    "# Section 4 : Conculsion\n",
    "\n",
    "\n"
   ]
  },
  {
   "cell_type": "markdown",
   "metadata": {
    "id": "jrFuIn48qV5U"
   },
   "source": [
    "*Congratulations on reaching this point! I hope you had fun solving your first assignment and have also built confidence in applying these libraries. If you are wondering, we will cover more about z-score normalization in Week 2, and the sigmoid function will be used in Week 3. After completing this assignment, you are now prepared to learn about machine learning techniques and implement your own machine learning models.*"
   ]
  }
 ],
 "metadata": {
  "colab": {
   "provenance": [],
   "toc_visible": true
  },
  "kernelspec": {
   "display_name": "Python 3 (ipykernel)",
   "language": "python",
   "name": "python3"
  },
  "language_info": {
   "codemirror_mode": {
    "name": "ipython",
    "version": 3
   },
   "file_extension": ".py",
   "mimetype": "text/x-python",
   "name": "python",
   "nbconvert_exporter": "python",
   "pygments_lexer": "ipython3",
   "version": "3.12.7"
  }
 },
 "nbformat": 4,
 "nbformat_minor": 4
}
