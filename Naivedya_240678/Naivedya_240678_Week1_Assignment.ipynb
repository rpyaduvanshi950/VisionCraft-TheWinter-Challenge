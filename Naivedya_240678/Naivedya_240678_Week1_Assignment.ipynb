{
  "cells": [
    {
      "cell_type": "markdown",
      "metadata": {
        "id": "UOzd0zRXW5Uv"
      },
      "source": [
        "# Week-1 Assignment\n",
        "\n",
        "*Welcome to your first assignment for the SimuTech Winter Project 2022! I hope you are excited to implement and test everything you have learned up until now. There is an interesting set of questions for you to refine your acquired skills as you delve into hands-on coding and deepen your understanding of numpy, pandas, and data visualization libraries.*"
      ]
    },
    {
      "cell_type": "markdown",
      "metadata": {
        "id": "2XFUXyq9Y9TG"
      },
      "source": [
        "# Section 0 : Importing Libraries"
      ]
    },
    {
      "cell_type": "markdown",
      "metadata": {
        "id": "D_bzcLusjSO0"
      },
      "source": [
        "*Let's begin by importing numpy, pandas and matplotlib.*"
      ]
    },
    {
      "cell_type": "code",
      "execution_count": null,
      "metadata": {
        "id": "jdwX7bI7aGeY"
      },
      "outputs": [],
      "source": [
        "#your code here\n",
        "import numpy as np\n",
        "import pandas as pd\n",
        "import matplotlib.pyplot as plt"
      ]
    },
    {
      "cell_type": "markdown",
      "metadata": {
        "id": "LM25mz5ta-Q_"
      },
      "source": [
        "# Section 1 : Playing with Python and Numpy"
      ]
    },
    {
      "cell_type": "markdown",
      "metadata": {
        "id": "TcFQVqhAdQw_"
      },
      "source": [
        "### Q1. Matrix Multiplication"
      ]
    },
    {
      "cell_type": "markdown",
      "metadata": {
        "id": "6Dcai9pys0j8"
      },
      "source": [
        "##### (i) Check if matrix multiplication is valid"
      ]
    },
    {
      "cell_type": "code",
      "execution_count": null,
      "metadata": {
        "id": "0qC4txIss3gG"
      },
      "outputs": [],
      "source": [
        "def isValid(A,B):\n",
        "  i=0\n",
        "  for x in B:\n",
        "    i=i+1\n",
        "\n",
        "  j=0\n",
        "  for y in A[0]:\n",
        "    j=j+1\n",
        "\n",
        "  if i==j:\n",
        "    return 1\n",
        "  else:\n",
        "    return 0\n",
        "#your code here"
      ]
    },
    {
      "cell_type": "markdown",
      "metadata": {
        "id": "OPTfRGlTdXxa"
      },
      "source": [
        "##### (ii) Using loops (without using numpy)"
      ]
    },
    {
      "cell_type": "code",
      "execution_count": 160,
      "metadata": {
        "id": "V8F5ETsRct3S"
      },
      "outputs": [],
      "source": [
        "def matrix_multiply(A,B):\n",
        "        C=[[0]*len(B[0]) for _ in range(0,len(A))]\n",
        "        for i in range(0,len(A)):\n",
        "            for j in range(0,len(B[0])):\n",
        "                for k in range(0,len(A[0])):\n",
        "                    C[i][j]+=A[i][k]*B[k][j]\n",
        "        return C\n",
        "  #your code here"
      ]
    },
    {
      "cell_type": "markdown",
      "metadata": {
        "id": "umUgUTSWdos8"
      },
      "source": [
        "##### (iii) Using numpy"
      ]
    },
    {
      "cell_type": "code",
      "execution_count": 135,
      "metadata": {
        "id": "-tdXlCHrduBP"
      },
      "outputs": [],
      "source": [
        "def matrix_multiply_2(A,B):\n",
        "  return np.dot(A,B)\n",
        "  #your code here"
      ]
    },
    {
      "cell_type": "markdown",
      "metadata": {
        "id": "2nMFnl84edJG"
      },
      "source": [
        "##### (iv) Testing your code\n",
        "\n",
        "Run the following cell to check if your functions are working properly.\n",
        "\n",
        "*Expected output:*\n",
        "[ [102 108 114]\n",
        " [246 261 276]\n",
        " [390 414 438]\n",
        " [534 567 600] ]"
      ]
    },
    {
      "cell_type": "code",
      "execution_count": 159,
      "metadata": {
        "id": "09rX_Cm9ezmq",
        "colab": {
          "base_uri": "https://localhost:8080/"
        },
        "outputId": "a22f62dc-ff8a-4430-847b-d3cfebfb0749"
      },
      "outputs": [
        {
          "output_type": "stream",
          "name": "stdout",
          "text": [
            "Result using loops: [[102, 108, 114], [246, 261, 276], [390, 414, 438], [534, 567, 600]]\n",
            "Result using numpy: [[102 108 114]\n",
            " [246 261 276]\n",
            " [390 414 438]\n",
            " [534 567 600]]\n"
          ]
        }
      ],
      "source": [
        "A = np.array([\n",
        "    [1, 2, 3],\n",
        "    [4, 5, 6],\n",
        "    [7, 8, 9],\n",
        "    [10, 11, 12]\n",
        "])\n",
        "\n",
        "B = np.array([\n",
        "    [13, 14, 15],\n",
        "    [16, 17, 18],\n",
        "    [19, 20, 21]\n",
        "])\n",
        "\n",
        "if isValid(A,B):\n",
        "  print(f\"Result using loops: {matrix_multiply(A,B)}\")\n",
        "  print(f\"Result using numpy: {matrix_multiply_2(A,B)}\")\n",
        "else:\n",
        "  print(f\"Matrix multiplication is not valid\")"
      ]
    },
    {
      "cell_type": "markdown",
      "metadata": {
        "id": "5hfP7Ao1fwqV"
      },
      "source": [
        "### Q2. Z-Score Normalisation"
      ]
    },
    {
      "cell_type": "markdown",
      "metadata": {
        "id": "0e81Xx5Kw_CQ"
      },
      "source": [
        "Z-score normalization refers to the process of normalizing every value in a dataset such that the mean of all of the values is 0 and the standard deviation is 1.\n",
        "\n",
        "We use the following formula to perform a z-score normalization on every value in a dataset:\n",
        "\n",
        "New value = (x – μ) / σ\n",
        "\n",
        "where:\n",
        "\n",
        "x: Original value\n",
        "\n",
        "μ: Mean of data\n",
        "\n",
        "σ: Standard deviation of data"
      ]
    },
    {
      "cell_type": "markdown",
      "metadata": {
        "id": "GP_MuyUbguSR"
      },
      "source": [
        "##### (i) Without using numpy"
      ]
    },
    {
      "cell_type": "code",
      "execution_count": null,
      "metadata": {
        "id": "0vix8qaaghwP"
      },
      "outputs": [],
      "source": [
        "def mean(x):\n",
        "  sum=0\n",
        "  i=0\n",
        "  for y in x:\n",
        "    sum=sum+y\n",
        "    i=i+1\n",
        "  return sum/i\n",
        "  #your code here"
      ]
    },
    {
      "cell_type": "code",
      "execution_count": null,
      "metadata": {
        "id": "j1qabel-g_f5"
      },
      "outputs": [],
      "source": [
        "from math import sqrt\n",
        "def standard_deviation(x):\n",
        "  ss=0\n",
        "  i=0\n",
        "  for z in x:\n",
        "    ss=ss+(z-mean(x))**2\n",
        "    i=i+1\n",
        "  return sqrt(ss/i)\n",
        "  #your code here"
      ]
    },
    {
      "cell_type": "code",
      "execution_count": null,
      "metadata": {
        "id": "797ewbNqhEpY"
      },
      "outputs": [],
      "source": [
        "def zscore_normalisation(x):\n",
        "  for i in range(0,len(x)):\n",
        "    x[i]=(x[i]-mean(x))/standard_deviation(x)\n",
        "  return x\n",
        "  #your code here"
      ]
    },
    {
      "cell_type": "markdown",
      "metadata": {
        "id": "k8dq1wqRhbUB"
      },
      "source": [
        "##### (ii) Using numpy\n",
        "\n",
        "Numpy has in_built functions for calculating mean and standard deviation"
      ]
    },
    {
      "cell_type": "code",
      "execution_count": null,
      "metadata": {
        "id": "WjxJTUDihsYg"
      },
      "outputs": [],
      "source": [
        "def zscore_normalisation_2(x):\n",
        "  for i in range(0,len(x)):\n",
        "    x[i]=(x[i]-np.mean(x))/np.std(x)\n",
        "  return x\n",
        "  #your code here"
      ]
    },
    {
      "cell_type": "markdown",
      "metadata": {
        "id": "glRqKU-_1pue"
      },
      "source": [
        "##### (iii) Testing your code"
      ]
    },
    {
      "cell_type": "markdown",
      "metadata": {
        "id": "Kl7XBymOigCU"
      },
      "source": [
        "Run the following cell to check if your functions are working properly.\n",
        "\n",
        "*Expected Output:* [-1.06753267 -0.99745394 -0.99745394 -0.81057732 -0.41346451 -0.06307086\n",
        "  0.31068237  0.91803138  1.22170588  1.89913361]"
      ]
    },
    {
      "cell_type": "code",
      "execution_count": null,
      "metadata": {
        "id": "78ptZxf6ipZp",
        "colab": {
          "base_uri": "https://localhost:8080/"
        },
        "outputId": "60c8937b-d16a-47ba-ee7f-334b7d32119d"
      },
      "outputs": [
        {
          "output_type": "stream",
          "name": "stdout",
          "text": [
            "Result without using numpy: [-1.0675326683028088, -0.9727943135965252, -0.9364168144729269, -0.7243861555687957, -0.30254830445949693, 0.08692577808039623, 0.4984705336101296, 1.1351346052952587, 1.6733860923777455, 2.999235532743759]\n",
            "Result using numpy: [-1.0218002374617001, -0.9547224300321112, -0.928837493474097, -0.7632008022180936, -0.4273932326357982, -0.11151725501916045, 0.22475232649154958, 0.7439367021438258, 1.217594103630652, 2.4027118347789904]\n"
          ]
        }
      ],
      "source": [
        "x = [4, 7, 7, 15, 32, 47, 63, 89, 102, 131]\n",
        "print(f\"Result without using numpy: {zscore_normalisation(x)}\")\n",
        "print(f\"Result using numpy: {zscore_normalisation_2(x)}\")"
      ]
    },
    {
      "cell_type": "markdown",
      "metadata": {
        "id": "0WVscJ0z14rp"
      },
      "source": [
        "### Q3. Sigmoid fn and its derivative"
      ]
    },
    {
      "cell_type": "markdown",
      "metadata": {
        "id": "Jfntb0Rg94Tu"
      },
      "source": [
        "The sigmoid function is a mathematical function that maps any input value to a value between 0 and 1.\n",
        "\n",
        "It is defined mathematically as s(x) = 1/(1+e^(-x))."
      ]
    },
    {
      "cell_type": "markdown",
      "metadata": {
        "id": "8SCAPkjO2m7u"
      },
      "source": [
        "##### (i) Write a fn to implement sigmoid fn"
      ]
    },
    {
      "cell_type": "code",
      "execution_count": null,
      "metadata": {
        "id": "jL_TRQFG2l5m"
      },
      "outputs": [],
      "source": [
        "def sigmoidfn(x):\n",
        "  return 1/(1+np.exp(-x))\n",
        "  #your code here"
      ]
    },
    {
      "cell_type": "markdown",
      "metadata": {
        "id": "t7KBbl7N3AUM"
      },
      "source": [
        "##### (ii) Write a fn to implement derivative of sigmoid fn"
      ]
    },
    {
      "cell_type": "code",
      "execution_count": null,
      "metadata": {
        "id": "okjuOpba3KOJ"
      },
      "outputs": [],
      "source": [
        "def derivative(x):\n",
        "  return sigmoidfn(x)*(np.exp(-x))\n",
        "  #your code here"
      ]
    },
    {
      "cell_type": "markdown",
      "metadata": {
        "id": "NdGTSpsp3mwr"
      },
      "source": [
        "##### (iii) Test your code"
      ]
    },
    {
      "cell_type": "markdown",
      "metadata": {
        "id": "lWY8RBex7gnd"
      },
      "source": [
        "Run the following cell to check if your functions are working properly.\n",
        "\n",
        "*Expected output:*\n",
        "\n",
        "x on applying sigmoid activation fn is: [ [0.99987661 0.88079708 0.99330715 0.5        0.5       ]\n",
        " [0.99908895 0.99330715 0.5        0.5        0.5       ] ]\n",
        "\n",
        "x on applying derivative of sigmoid activation fn is: [ [-1.23379350e-04 -1.04993585e-01 -6.64805667e-03 -2.50000000e-01\n",
        "  -2.50000000e-01]\n",
        " [-9.10221180e-04 -6.64805667e-03 -2.50000000e-01 -2.50000000e-01\n",
        "  -2.50000000e-01] ]"
      ]
    },
    {
      "cell_type": "code",
      "execution_count": null,
      "metadata": {
        "id": "ssDGpmS33vdA",
        "colab": {
          "base_uri": "https://localhost:8080/"
        },
        "outputId": "63118775-2bf0-43f0-9560-a4023bd2d58e"
      },
      "outputs": [
        {
          "output_type": "stream",
          "name": "stdout",
          "text": [
            "x on applying sigmoid activation fn is: [[0.99987661 0.88079708 0.99330715 0.5        0.5       ]\n",
            " [0.99908895 0.99330715 0.5        0.5        0.5       ]]\n",
            "x on applying derivative of sigmoid activation fn is: [[1.23394576e-04 1.19202922e-01 6.69285092e-03 5.00000000e-01\n",
            "  5.00000000e-01]\n",
            " [9.11051194e-04 6.69285092e-03 5.00000000e-01 5.00000000e-01\n",
            "  5.00000000e-01]]\n"
          ]
        }
      ],
      "source": [
        "x = np.array([\n",
        "    [9,2,5,0,0],\n",
        "    [7,5,0,0,0]\n",
        "])\n",
        "print(f\"x on applying sigmoid activation fn is: {sigmoidfn(x)}\")\n",
        "print(f\"x on applying derivative of sigmoid activation fn is: {derivative(x)}\")"
      ]
    },
    {
      "cell_type": "markdown",
      "metadata": {
        "id": "PMa0cseyZpa1"
      },
      "source": [
        "# Section 2: Exploring Pandas"
      ]
    },
    {
      "cell_type": "markdown",
      "metadata": {
        "id": "DB8e0KVGqV5I"
      },
      "source": [
        "*You have been provided with a dataset which includes information about properties of superheated vapor.*\n",
        "\n",
        "*The dataset consists of the thermophysical properties: specific volume, specific internal energy, specific enthalpy, specific entropy of superheated vapor.*\n",
        "\n",
        "*Pressure is in kPa and Temperature in centigrade. In the dataframe 75, 100, 125, etc. are temperatures.*"
      ]
    },
    {
      "cell_type": "markdown",
      "metadata": {
        "id": "i5Okb_jxZ_VW"
      },
      "source": [
        "### Read the csv file\n"
      ]
    },
    {
      "cell_type": "code",
      "execution_count": 96,
      "metadata": {
        "id": "aQgvyavrcM1l"
      },
      "outputs": [],
      "source": [
        "#your code here\n",
        "url = \"https://docs.google.com/spreadsheets/d/1JQ0mf0iW9xHXHHRPEbKiZfet5yhm_CrfyVt9n7ly4dI/export?format=csv\"\n",
        "df = pd.read_csv(url)"
      ]
    },
    {
      "cell_type": "markdown",
      "metadata": {
        "id": "Zp8F3rk2cNxy"
      },
      "source": [
        "### Display the shape of data frame\n"
      ]
    },
    {
      "cell_type": "code",
      "execution_count": 92,
      "metadata": {
        "id": "v3Q8kQkucgK0",
        "colab": {
          "base_uri": "https://localhost:8080/"
        },
        "outputId": "4ea63331-fee6-4fb1-b9f4-b2976c5c6ebe"
      },
      "outputs": [
        {
          "output_type": "stream",
          "name": "stdout",
          "text": [
            "(1091, 37)\n"
          ]
        }
      ],
      "source": [
        "#your code here\n",
        "print(df.shape)"
      ]
    },
    {
      "cell_type": "markdown",
      "metadata": {
        "id": "w49cp-8zcgd2"
      },
      "source": [
        "### Return an array containing names of all the columns"
      ]
    },
    {
      "cell_type": "code",
      "execution_count": 103,
      "metadata": {
        "id": "fz4HRb3JcsZp",
        "colab": {
          "base_uri": "https://localhost:8080/"
        },
        "outputId": "a6ac1878-203e-4977-ff66-d0379ef5fb53"
      },
      "outputs": [
        {
          "output_type": "stream",
          "name": "stdout",
          "text": [
            "Index(['<<<<<<< HEAD', 'Unnamed: 1', 'Unnamed: 2', 'Unnamed: 3', 'Unnamed: 4',\n",
            "       'Unnamed: 5', 'Unnamed: 6', 'Unnamed: 7', 'Unnamed: 8', 'Unnamed: 9',\n",
            "       'Unnamed: 10', 'Unnamed: 11', 'Unnamed: 12', 'Unnamed: 13',\n",
            "       'Unnamed: 14', 'Unnamed: 15', 'Unnamed: 16', 'Unnamed: 17',\n",
            "       'Unnamed: 18', 'Unnamed: 19', 'Unnamed: 20', 'Unnamed: 21',\n",
            "       'Unnamed: 22', 'Unnamed: 23', 'Unnamed: 24', 'Unnamed: 25',\n",
            "       'Unnamed: 26', 'Unnamed: 27', 'Unnamed: 28', 'Unnamed: 29',\n",
            "       'Unnamed: 30', 'Unnamed: 31', 'Unnamed: 32', 'Unnamed: 33',\n",
            "       'Unnamed: 34', 'Unnamed: 35', 'Unnamed: 36'],\n",
            "      dtype='object')\n"
          ]
        }
      ],
      "source": [
        "#your code here\n",
        "print(df.columns)"
      ]
    },
    {
      "cell_type": "markdown",
      "metadata": {
        "id": "YkTH9tRWcrH-"
      },
      "source": [
        "### Display the number of null values in each column of the dataframe\n",
        "\n"
      ]
    },
    {
      "cell_type": "code",
      "execution_count": 115,
      "metadata": {
        "id": "GK9-PJPxc3Ot",
        "colab": {
          "base_uri": "https://localhost:8080/"
        },
        "outputId": "e438ca1d-ba6d-4ae2-ee2d-4b8cbe729b88"
      },
      "outputs": [
        {
          "output_type": "stream",
          "name": "stdout",
          "text": [
            "<<<<<<< HEAD       0\n",
            "Unnamed: 1         2\n",
            "Unnamed: 2         2\n",
            "Unnamed: 3         2\n",
            "Unnamed: 4      1057\n",
            "Unnamed: 5      1017\n",
            "Unnamed: 6       977\n",
            "Unnamed: 7       897\n",
            "Unnamed: 8       769\n",
            "Unnamed: 9       641\n",
            "Unnamed: 10      817\n",
            "Unnamed: 11      801\n",
            "Unnamed: 12      817\n",
            "Unnamed: 13      689\n",
            "Unnamed: 14      769\n",
            "Unnamed: 15      681\n",
            "Unnamed: 16      761\n",
            "Unnamed: 17      977\n",
            "Unnamed: 18      121\n",
            "Unnamed: 19      961\n",
            "Unnamed: 20      273\n",
            "Unnamed: 21      954\n",
            "Unnamed: 22      137\n",
            "Unnamed: 23      954\n",
            "Unnamed: 24      409\n",
            "Unnamed: 25      954\n",
            "Unnamed: 26        2\n",
            "Unnamed: 27      410\n",
            "Unnamed: 28        2\n",
            "Unnamed: 29      410\n",
            "Unnamed: 30        2\n",
            "Unnamed: 31      546\n",
            "Unnamed: 32        2\n",
            "Unnamed: 33      682\n",
            "Unnamed: 34        2\n",
            "Unnamed: 35      954\n",
            "Unnamed: 36        2\n",
            "dtype: int64\n"
          ]
        }
      ],
      "source": [
        "#your code here\n",
        "hello=df.isnull().sum()\n",
        "print(hello)"
      ]
    },
    {
      "cell_type": "markdown",
      "metadata": {
        "id": "Av-lcft2c3mx"
      },
      "source": [
        "### Create a column which contains the Pressure and Property columns, seperated with 'at' (For eg. V at 1, H at 101.325). Using this print the following:\n",
        "- Enthalpy at 75 kPa and 573 K\n",
        "- Entropy at 493 K and 250 kPa\n",
        "\n"
      ]
    },
    {
      "cell_type": "code",
      "execution_count": 153,
      "metadata": {
        "id": "B2AihQj_c32C",
        "colab": {
          "base_uri": "https://localhost:8080/"
        },
        "outputId": "19458c58-51b9-4830-aba9-a96b1778050c"
      },
      "outputs": [
        {
          "output_type": "stream",
          "name": "stdout",
          "text": [
            "0       Property at Pressure\n",
            "1                     V at 1\n",
            "2                     U at 1\n",
            "3                     H at 1\n",
            "4                     S at 1\n",
            "                ...         \n",
            "1086              V at 11400\n",
            "1087              U at 11400\n",
            "1088              H at 11400\n",
            "1089                     NaN\n",
            "1090              S at 11400\n",
            "Name: Newcolumn, Length: 1091, dtype: object\n"
          ]
        }
      ],
      "source": [
        "#your code here\n",
        "df['Newcolumn']=df['Unnamed: 1']+' at '+df['<<<<<<< HEAD'].astype(str)\n",
        "print(df['Newcolumn'])"
      ]
    },
    {
      "cell_type": "markdown",
      "metadata": {
        "id": "GpLtXYRLc4Ho"
      },
      "source": [
        "### Find out the column with the highest number of missing values"
      ]
    },
    {
      "cell_type": "code",
      "execution_count": 123,
      "metadata": {
        "id": "q80Grgeyc4Xn",
        "colab": {
          "base_uri": "https://localhost:8080/"
        },
        "outputId": "48dd2429-c382-4000-88fc-ffc6bdd1b1a5"
      },
      "outputs": [
        {
          "output_type": "stream",
          "name": "stdout",
          "text": [
            "Unnamed: 4\n"
          ]
        }
      ],
      "source": [
        "#your code here\n",
        "hello=df.isnull().sum()\n",
        "print(hello.idxmax())"
      ]
    },
    {
      "cell_type": "markdown",
      "metadata": {
        "id": "74NVHTTac4nv"
      },
      "source": [
        "\n",
        "\n",
        "### What is the average enthalpy of Sat. Liq. at all different pressures in the dataset?"
      ]
    },
    {
      "cell_type": "code",
      "execution_count": 151,
      "metadata": {
        "id": "g3mByhBDdpVr",
        "colab": {
          "base_uri": "https://localhost:8080/"
        },
        "outputId": "a9c08865-4579-4952-dbad-3a1493aff2dd"
      },
      "outputs": [
        {
          "output_type": "stream",
          "name": "stdout",
          "text": [
            "936.9707720588235\n"
          ]
        }
      ],
      "source": [
        "#your code here\n",
        "H_data=df[(df['Unnamed: 1']=='H')]\n",
        "b=H_data['Unnamed: 2']\n",
        "c=pd.Series(b)\n",
        "d=c.astype(float)\n",
        "print(d.mean())"
      ]
    },
    {
      "cell_type": "markdown",
      "metadata": {
        "id": "uS-SuqU8dpxg"
      },
      "source": [
        "### Separate out the V,U,H,S data from the dataset into V_data, U_data, H_data, S_data"
      ]
    },
    {
      "cell_type": "code",
      "execution_count": 108,
      "metadata": {
        "id": "Sg3V9Toyd1Av",
        "colab": {
          "base_uri": "https://localhost:8080/"
        },
        "outputId": "63af33c6-a40d-4a04-a7c9-772baa588e43"
      },
      "outputs": [
        {
          "output_type": "stream",
          "name": "stdout",
          "text": [
            "     <<<<<<< HEAD Unnamed: 1 Unnamed: 2 Unnamed: 3  Unnamed: 4  Unnamed: 5  \\\n",
            "1               1          V          1     129200    160640.0    172180.0   \n",
            "5              10          V       1.01      14670     16030.0     17190.0   \n",
            "9              20          V      1.017     7649.8      8000.0      8584.7   \n",
            "13             30          V      1.022     5229.3      5322.0      5714.4   \n",
            "17             40          V      1.027     3993.4         NaN      4279.2   \n",
            "...           ...        ...        ...        ...         ...         ...   \n",
            "1070        10600          V      1.474     16.778         NaN         NaN   \n",
            "1074        10800          V      1.481     16.385         NaN         NaN   \n",
            "1078        11000          V      1.489     16.006         NaN         NaN   \n",
            "1082        11200          V      1.496     15.639         NaN         NaN   \n",
            "1086        11400          V      1.504     15.284         NaN         NaN   \n",
            "\n",
            "      Unnamed: 6  Unnamed: 7  Unnamed: 8  Unnamed: 9  ...  Unnamed: 27  \\\n",
            "1       183720.0    195270.0    206810.0    218350.0  ...          NaN   \n",
            "5        18350.0     19510.0     20660.0     21820.0  ...          NaN   \n",
            "9         9167.1      9748.0     10320.0     10900.0  ...          NaN   \n",
            "13        6104.6      6493.2      6880.8      7267.5  ...          NaN   \n",
            "17        4573.3      4865.8      5157.2      5447.8  ...          NaN   \n",
            "...          ...         ...         ...         ...  ...          ...   \n",
            "1070         NaN         NaN         NaN         NaN  ...       26.276   \n",
            "1074         NaN         NaN         NaN         NaN  ...       25.703   \n",
            "1078         NaN         NaN         NaN         NaN  ...       25.151   \n",
            "1082         NaN         NaN         NaN         NaN  ...       24.619   \n",
            "1086         NaN         NaN         NaN         NaN  ...       24.104   \n",
            "\n",
            "      Unnamed: 28  Unnamed: 29  Unnamed: 30  Unnamed: 31  Unnamed: 32  \\\n",
            "1      333730.000          NaN   356810.000          NaN   379880.000   \n",
            "5       33370.000          NaN    35670.000          NaN    37980.000   \n",
            "9       16680.000          NaN    17830.000          NaN    18990.000   \n",
            "13      11120.000          NaN    11890.000          NaN    12660.000   \n",
            "17       8340.100          NaN     8917.600          NaN     9494.900   \n",
            "...           ...          ...          ...          ...          ...   \n",
            "1070       27.834       29.313       30.732       32.106       33.444   \n",
            "1074       27.245       28.706       30.106       31.461       32.779   \n",
            "1078       26.676       28.120       29.503       30.839       32.139   \n",
            "1082       26.128       27.555       28.921       30.240       31.521   \n",
            "1086       25.599       27.010       28.359       29.661       30.925   \n",
            "\n",
            "      Unnamed: 33  Unnamed: 34  Unnamed: 35  Unnamed: 36  \n",
            "1             NaN   402960.000          NaN   426040.000  \n",
            "5             NaN    40290.000          NaN    42600.000  \n",
            "9             NaN    20140.000          NaN    21300.000  \n",
            "13            NaN    13430.000          NaN    14190.000  \n",
            "17            NaN    10070.000          NaN    10640.000  \n",
            "...           ...          ...          ...          ...  \n",
            "1070       34.753       36.039       37.304       38.552  \n",
            "1074       34.069       35.335       36.580       37.808  \n",
            "1078       33.410       34.656       35.882       37.091  \n",
            "1082       32.774       34.002       35.210       36.400  \n",
            "1086       32.160       33.370       34.560       35.733  \n",
            "\n",
            "[272 rows x 37 columns]\n",
            "     <<<<<<< HEAD Unnamed: 1 Unnamed: 2 Unnamed: 3  Unnamed: 4  Unnamed: 5  \\\n",
            "2               1          U     29.334     2385.2      2480.8      2516.4   \n",
            "6              10          U    191.822       2438      2479.7      2515.6   \n",
            "10             20          U    251.432     2456.9      2478.4      2514.6   \n",
            "14             30          U    289.271     2468.6      2477.1      2513.6   \n",
            "18             40          U    317.609     2477.1         NaN      2512.6   \n",
            "...           ...        ...        ...        ...         ...         ...   \n",
            "1071        10600          U     1418.1       2539         NaN         NaN   \n",
            "1075        10800          U     1426.2     2536.2         NaN         NaN   \n",
            "1079        11000          U     1434.2     2533.2         NaN         NaN   \n",
            "1083        11200          U     1442.1     2530.3         NaN         NaN   \n",
            "1087        11400          U       1450     2527.2         NaN         NaN   \n",
            "\n",
            "      Unnamed: 6  Unnamed: 7  Unnamed: 8  Unnamed: 9  ...  Unnamed: 27  \\\n",
            "2         2552.3      2588.5      2624.9      2661.7  ...          NaN   \n",
            "6         2551.6      2588.0      2624.5      2661.4  ...          NaN   \n",
            "10        2550.9      2587.4      2624.1      2661.0  ...          NaN   \n",
            "14        2550.2      2586.8      2623.6      2660.7  ...          NaN   \n",
            "18        2549.4      2586.2      2623.2      2660.3  ...          NaN   \n",
            "...          ...         ...         ...         ...  ...          ...   \n",
            "1071         NaN         NaN         NaN         NaN  ...       2884.5   \n",
            "1075         NaN         NaN         NaN         NaN  ...       2881.7   \n",
            "1079         NaN         NaN         NaN         NaN  ...       2878.9   \n",
            "1083         NaN         NaN         NaN         NaN  ...       2876.0   \n",
            "1087         NaN         NaN         NaN         NaN  ...       2873.1   \n",
            "\n",
            "      Unnamed: 28  Unnamed: 29  Unnamed: 30  Unnamed: 31  Unnamed: 32  \\\n",
            "2          3049.9          NaN       3132.4          NaN       3216.7   \n",
            "6          3049.8          NaN       3132.3          NaN       3216.6   \n",
            "10         3049.7          NaN       3132.3          NaN       3216.5   \n",
            "14         3049.6          NaN       3132.2          NaN       3216.5   \n",
            "18         3049.5          NaN       3132.1          NaN       3216.4   \n",
            "...           ...          ...          ...          ...          ...   \n",
            "1071       2939.1       2991.1       3041.4       3090.7       3139.3   \n",
            "1075       2936.7       2989.0       3039.6       3089.0       3137.8   \n",
            "1079       2934.3       2986.9       3037.7       3087.3       3136.2   \n",
            "1083       2931.8       2984.8       3035.8       3085.6       3134.7   \n",
            "1087       2929.4       2982.6       3033.9       3083.9       3133.1   \n",
            "\n",
            "      Unnamed: 33  Unnamed: 34  Unnamed: 35  Unnamed: 36  \n",
            "2             NaN       3302.6          NaN       3390.3  \n",
            "6             NaN       3302.6          NaN       3390.3  \n",
            "10            NaN       3302.5          NaN       3390.2  \n",
            "14            NaN       3302.5          NaN       3390.2  \n",
            "18            NaN       3302.4          NaN       3390.1  \n",
            "...           ...          ...          ...          ...  \n",
            "1071       3187.5       3235.6       3283.6       3331.7  \n",
            "1075       3186.1       3234.3       3282.4       3330.6  \n",
            "1079       3184.7       3233.0       3281.2       3329.5  \n",
            "1083       3183.3       3231.7       3280.0       3328.4  \n",
            "1087       3181.9       3230.4       3278.8       3327.2  \n",
            "\n",
            "[272 rows x 37 columns]\n",
            "     <<<<<<< HEAD Unnamed: 1 Unnamed: 2 Unnamed: 3  Unnamed: 4  Unnamed: 5  \\\n",
            "3               1          H     29.335     2514.4      2641.5      2688.6   \n",
            "7              10          H    191.832     2584.8      2640.0      2687.5   \n",
            "11             20          H    251.453     2609.9      2638.4      2686.3   \n",
            "15             30          H    289.302     2625.4      2636.8      2685.1   \n",
            "19             40          H     317.65     2636.9         NaN      2683.8   \n",
            "...           ...        ...        ...        ...         ...         ...   \n",
            "1072        10600          H     1433.7     2716.9         NaN         NaN   \n",
            "1076        10800          H     1442.2     2713.1         NaN         NaN   \n",
            "1080        11000          H     1450.6     2709.3         NaN         NaN   \n",
            "1084        11200          H     1458.9     2705.4         NaN         NaN   \n",
            "1088        11400          H     1467.2     2701.5         NaN         NaN   \n",
            "\n",
            "      Unnamed: 6  Unnamed: 7  Unnamed: 8  Unnamed: 9  ...  Unnamed: 27  \\\n",
            "3         2736.0      2783.7      2831.7      2880.1  ...          NaN   \n",
            "7         2735.2      2783.1      2831.2      2879.6  ...          NaN   \n",
            "11        2734.2      2782.3      2830.6      2879.2  ...          NaN   \n",
            "15        2733.3      2781.6      2830.0      2878.7  ...          NaN   \n",
            "19        2732.3      2780.9      2829.5      2878.2  ...          NaN   \n",
            "...          ...         ...         ...         ...  ...          ...   \n",
            "1072         NaN         NaN         NaN         NaN  ...       3163.0   \n",
            "1076         NaN         NaN         NaN         NaN  ...       3159.3   \n",
            "1080         NaN         NaN         NaN         NaN  ...       3155.5   \n",
            "1084         NaN         NaN         NaN         NaN  ...       3151.7   \n",
            "1088         NaN         NaN         NaN         NaN  ...       3147.9   \n",
            "\n",
            "      Unnamed: 28  Unnamed: 29  Unnamed: 30  Unnamed: 31  Unnamed: 32  \\\n",
            "3          3383.6          NaN       3489.2          NaN       3596.5   \n",
            "7          3383.5          NaN       3489.1          NaN       3596.5   \n",
            "11         3383.4          NaN       3489.0          NaN       3596.4   \n",
            "15         3383.3          NaN       3488.9          NaN       3596.3   \n",
            "19         3383.1          NaN       3488.8          NaN       3596.2   \n",
            "...           ...          ...          ...          ...          ...   \n",
            "1072       3234.1       3301.8       3367.2       3431.0       3493.8   \n",
            "1076       3230.9       3299.0       3364.7       3428.8       3491.8   \n",
            "1080       3227.7       3296.2       3362.2       3426.5       3489.7   \n",
            "1084       3224.5       3293.4       3359.7       3424.3       3487.7   \n",
            "1088       3221.2       3290.5       3357.2       3422.1       3485.7   \n",
            "\n",
            "      Unnamed: 33  Unnamed: 34  Unnamed: 35  Unnamed: 36  \n",
            "3             NaN       3705.6          NaN       3816.4  \n",
            "7             NaN       3705.5          NaN       3816.3  \n",
            "11            NaN       3705.4          NaN       3816.2  \n",
            "15            NaN       3705.4          NaN       3816.2  \n",
            "19            NaN       3705.3          NaN       3816.1  \n",
            "...           ...          ...          ...          ...  \n",
            "1072       3555.9       3617.6       3679.1       3740.4  \n",
            "1076       3554.1       3615.9       3677.5       3738.9  \n",
            "1080       3552.2       3614.2       3675.9       3737.5  \n",
            "1084       3550.4       3612.5       3674.4       3736.0  \n",
            "1088       3548.5       3610.8       3672.8       3734.6  \n",
            "\n",
            "[272 rows x 37 columns]\n",
            "     <<<<<<< HEAD Unnamed: 1 Unnamed: 2 Unnamed: 3  Unnamed: 4  Unnamed: 5  \\\n",
            "4               1          S      0.106     8.9767      9.3828      9.5136   \n",
            "8              10          S     0.6493     8.1511      8.3168      8.4486   \n",
            "12             20          S     0.8321     7.9094      7.9933      8.1261   \n",
            "16             30          S     0.9441     7.7695      7.8024      7.9363   \n",
            "20             40          S     1.0261     7.6709         NaN      7.8009   \n",
            "...           ...        ...        ...        ...         ...         ...   \n",
            "1073        10600          S     3.4029     5.5835         NaN         NaN   \n",
            "1077        10800          S     3.4167     5.5715         NaN         NaN   \n",
            "1081        11000          S     3.4304     5.5595         NaN         NaN   \n",
            "1085        11200          S      3.444     5.5476         NaN         NaN   \n",
            "1090        11400          S     3.4575     5.5357         NaN         NaN   \n",
            "\n",
            "      Unnamed: 6  Unnamed: 7  Unnamed: 8  Unnamed: 9  ...  Unnamed: 27  \\\n",
            "4         9.6365      9.7527      9.8629      9.9679  ...          NaN   \n",
            "8         8.5722      8.6888      8.7994      8.9045  ...          NaN   \n",
            "12        8.2504      8.3676      8.4785      8.5839  ...          NaN   \n",
            "16        8.0614      8.1791      8.2903      8.3960  ...          NaN   \n",
            "20        7.9268      8.0450      8.1566      8.2624  ...          NaN   \n",
            "...          ...         ...         ...         ...  ...          ...   \n",
            "1073         NaN         NaN         NaN         NaN  ...       6.2872   \n",
            "1077         NaN         NaN         NaN         NaN  ...       6.2744   \n",
            "1081         NaN         NaN         NaN         NaN  ...       6.2617   \n",
            "1085         NaN         NaN         NaN         NaN  ...       6.2491   \n",
            "1090         NaN         NaN         NaN         NaN  ...       6.2367   \n",
            "\n",
            "      Unnamed: 28  Unnamed: 29  Unnamed: 30  Unnamed: 31  Unnamed: 32  \\\n",
            "4         10.8200          NaN      10.9612          NaN      11.0957   \n",
            "8          9.7572          NaN       9.8984          NaN      10.0329   \n",
            "12         9.4372          NaN       9.5784          NaN       9.7130   \n",
            "16         9.2499          NaN       9.3912          NaN       9.5257   \n",
            "20         9.1170          NaN       9.2583          NaN       9.3929   \n",
            "...           ...          ...          ...          ...          ...   \n",
            "1073       6.3872       6.4793       6.5652       6.6465       6.7239   \n",
            "1077       6.3752       6.4678       6.5542       6.6357       6.7134   \n",
            "1081       6.3633       6.4564       6.5432       6.6251       6.7031   \n",
            "1085       6.3515       6.4452       6.5324       6.6147       6.6929   \n",
            "1090       6.3399       6.4341       6.5218       6.6043       6.6828   \n",
            "\n",
            "      Unnamed: 33  Unnamed: 34  Unnamed: 35  Unnamed: 36  \n",
            "4             NaN      11.2243          NaN      11.3476  \n",
            "8             NaN      10.1616          NaN      10.2849  \n",
            "12            NaN       9.8416          NaN       9.9650  \n",
            "16            NaN       9.6544          NaN       9.7778  \n",
            "20            NaN       9.5216          NaN       9.6450  \n",
            "...           ...          ...          ...          ...  \n",
            "1073       6.7983       6.8700       6.9394       7.0067  \n",
            "1077       6.7880       6.8599       6.9294       6.9969  \n",
            "1081       6.7779       6.8499       6.9196       6.9872  \n",
            "1085       6.7679       6.8401       6.9099       6.9777  \n",
            "1090       6.7580       6.8304       6.9004       6.9683  \n",
            "\n",
            "[271 rows x 37 columns]\n"
          ]
        }
      ],
      "source": [
        "#your code here\n",
        "V_data=df[(df['Unnamed: 1']=='V')]\n",
        "U_data=df[(df['Unnamed: 1']=='U')]\n",
        "H_data=df[(df['Unnamed: 1']=='H')]\n",
        "S_data=df[(df['Unnamed: 1']=='S')]\n",
        "print(V_data)\n",
        "print(U_data)\n",
        "print(H_data)\n",
        "print(S_data)"
      ]
    },
    {
      "cell_type": "markdown",
      "metadata": {
        "id": "aiNiwCZyqV5U"
      },
      "source": [
        "# Section 4 : Conculsion\n",
        "\n",
        "\n"
      ]
    },
    {
      "cell_type": "markdown",
      "metadata": {
        "id": "jrFuIn48qV5U"
      },
      "source": [
        "*Congratulations on reaching this point! I hope you had fun solving your first assignment and have also built confidence in applying these libraries. If you are wondering, we will cover more about z-score normalization in Week 2, and the sigmoid function will be used in Week 3. After completing this assignment, you are now prepared to learn about machine learning techniques and implement your own machine learning models.*"
      ]
    }
  ],
  "metadata": {
    "colab": {
      "provenance": [],
      "toc_visible": true
    },
    "kernelspec": {
      "display_name": "Python 3 (ipykernel)",
      "language": "python",
      "name": "python3"
    },
    "language_info": {
      "codemirror_mode": {
        "name": "ipython",
        "version": 3
      },
      "file_extension": ".py",
      "mimetype": "text/x-python",
      "name": "python",
      "nbconvert_exporter": "python",
      "pygments_lexer": "ipython3",
      "version": "3.10.5"
    }
  },
  "nbformat": 4,
  "nbformat_minor": 0
}