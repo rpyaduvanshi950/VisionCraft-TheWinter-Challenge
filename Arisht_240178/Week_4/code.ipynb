{
 "cells": [
  {
   "cell_type": "code",
   "execution_count": 14,
   "metadata": {},
   "outputs": [],
   "source": [
    "import cv2 as cv\n",
    "import os\n",
    "\n",
    "video=cv.VideoCapture(\"video.mp4\")\n",
    "frame_count=1\n",
    "set=[]\n",
    "contour_set=[]\n",
    "\n",
    "if not os.path.exists(\"frames\"):\n",
    "    os.makedirs(\"frames\")\n",
    "\n",
    "while True:\n",
    "    boolean, frame=video.read()\n",
    "    if boolean:\n",
    "        set.append(frame)\n",
    "        if len(set)==5:\n",
    "            max_area=0\n",
    "            for i in range(0,len(set)):\n",
    "                gray=cv.cvtColor(set[i], cv.COLOR_BGR2GRAY)\n",
    "                blur_frame=cv.GaussianBlur(gray, (3,3), 0)\n",
    "                canny=cv.Canny(blur_frame, 125, 175)\n",
    "                contours, heir = cv.findContours(canny, cv.RETR_LIST, cv.CHAIN_APPROX_NONE)\n",
    "                for contour in contours:\n",
    "                    area = cv.contourArea(contour)\n",
    "                    if area > max_area:\n",
    "                        max_area = area\n",
    "                        best_frame = frame\n",
    "            cv.imwrite(f\"frames/frame_{int(frame_count/5)}.jpg\", best_frame)\n",
    "            set.clear()\n",
    "        frame_count += 1\n",
    "        if cv.waitKey(20) & 0xFF == ord(\"q\"):\n",
    "            break\n",
    "    else:\n",
    "        break   "
   ]
  }
 ],
 "metadata": {
  "kernelspec": {
   "display_name": "Python 3",
   "language": "python",
   "name": "python3"
  },
  "language_info": {
   "codemirror_mode": {
    "name": "ipython",
    "version": 3
   },
   "file_extension": ".py",
   "mimetype": "text/x-python",
   "name": "python",
   "nbconvert_exporter": "python",
   "pygments_lexer": "ipython3",
   "version": "3.13.1"
  }
 },
 "nbformat": 4,
 "nbformat_minor": 2
}
