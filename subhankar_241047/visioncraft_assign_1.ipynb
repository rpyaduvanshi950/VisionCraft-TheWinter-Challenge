{
  "nbformat": 4,
  "nbformat_minor": 0,
  "metadata": {
    "colab": {
      "provenance": [],
      "authorship_tag": "ABX9TyN7G7aA6Bn+enPkWOn2R8hJ",
      "include_colab_link": true
    },
    "kernelspec": {
      "name": "python3",
      "display_name": "Python 3"
    },
    "language_info": {
      "name": "python"
    }
  },
  "cells": [
    {
      "cell_type": "markdown",
      "metadata": {
        "id": "view-in-github",
        "colab_type": "text"
      },
      "source": [
        "<a href=\"https://colab.research.google.com/github/Rick-01s/VisionCraft-TheWinter-Challenge/blob/main/subhankar_241047/visioncraft_assign_1.ipynb\" target=\"_parent\"><img src=\"https://colab.research.google.com/assets/colab-badge.svg\" alt=\"Open In Colab\"/></a>"
      ]
    },
    {
      "cell_type": "code",
      "execution_count": 2,
      "metadata": {
        "id": "CuyIMDpglDSn"
      },
      "outputs": [],
      "source": [
        "import numpy as np\n",
        "import pandas as pd\n",
        "import matplotlib as plt"
      ]
    },
    {
      "cell_type": "markdown",
      "source": [
        "Q1. Matrix Multiplication"
      ],
      "metadata": {
        "id": "NWwmW39DFUUj"
      }
    },
    {
      "cell_type": "code",
      "source": [
        "#check matrix multiplication is valid\n",
        "def isValid(A,B):\n",
        "  if A.shape[1]==B.shape[0]:\n",
        "    return True\n",
        "  else:\n",
        "    return False\n"
      ],
      "metadata": {
        "id": "2f-o_wUVl1Y5"
      },
      "execution_count": null,
      "outputs": []
    },
    {
      "cell_type": "code",
      "source": [
        "# matrix multiplication is valid using loops\n",
        "def matrix_multiply(A,B):\n",
        "  result=[[0 for i in range(len(B[0]))] for j in range(len(A))]\n",
        "  for i in range(len(A)):\n",
        "    for j in range(len(B[0])):\n",
        "      for k in range(len(B)):\n",
        "        result[i][j] += A[i][k] * B[k][j]\n",
        "  return result\n"
      ],
      "metadata": {
        "id": "Qt8PkOfuoOGV"
      },
      "execution_count": null,
      "outputs": []
    },
    {
      "cell_type": "code",
      "source": [
        "# matrix multiplication using numpy\n",
        "def matrix_multiply_2(A,B):\n",
        "  return np.dot(A,B)"
      ],
      "metadata": {
        "id": "LlheeBc8DPNP"
      },
      "execution_count": null,
      "outputs": []
    },
    {
      "cell_type": "code",
      "source": [
        "A = np.array([\n",
        "    [1, 2, 3],\n",
        "    [4, 5, 6],\n",
        "    [7, 8, 9],\n",
        "    [10, 11, 12]\n",
        "])\n",
        "\n",
        "B = np.array([\n",
        "    [13, 14, 15],\n",
        "    [16, 17, 18],\n",
        "    [19, 20, 21]\n",
        "])\n",
        "\n",
        "if isValid(A,B):\n",
        "  print(f\"Result using loops: {matrix_multiply(A,B)}\")\n",
        "  print(f\"Result using numpy: {matrix_multiply_2(A,B)}\")\n",
        "else:\n",
        "  print(f\"Matrix multiplication is not valid\")"
      ],
      "metadata": {
        "id": "1VVglk2HDxPt"
      },
      "execution_count": null,
      "outputs": []
    },
    {
      "cell_type": "markdown",
      "source": [
        "Q2. Z-Score Normalisation"
      ],
      "metadata": {
        "id": "KS5RoTnWFLIm"
      }
    },
    {
      "cell_type": "code",
      "source": [
        "#mean without numpy\n",
        "data=[]\n",
        "n=int(input(\"enter no. of elements : \"))\n",
        "for i in range(0,n):\n",
        "  ele=int(input())\n",
        "  data.append(ele)\n",
        "def mean(data):\n",
        "  sum=0\n",
        "  for i in range(0,n):\n",
        "    sum+=data[i]\n",
        "  return sum/n\n",
        "mean=mean(data)"
      ],
      "metadata": {
        "id": "Yq114OvRFSTf"
      },
      "execution_count": null,
      "outputs": []
    },
    {
      "cell_type": "code",
      "source": [
        "#standard deviation without numpy\n",
        "def standard_deviation(data):\n",
        "  sum_of_squares=0\n",
        "  for i in range(0,n):\n",
        "    sum_of_squares+=(data[i]-mean)**2\n",
        "  std_dev=(sum_of_squares/n)**0.5\n",
        "  return std_dev\n",
        "std_dev=standard_deviation(data)\n"
      ],
      "metadata": {
        "id": "XA4CVwS3GLcg"
      },
      "execution_count": null,
      "outputs": []
    },
    {
      "cell_type": "code",
      "source": [
        "new_data=[]\n",
        "def z_score_normalisation(data):\n",
        "  for i in range(0,n):\n",
        "    new_value=(data[i]-mean)/std_dev\n",
        "    new_data.append(new_value)\n",
        "  return new_data\n",
        "print(\"z_score_normalisation\",z_score_normalisation(data))"
      ],
      "metadata": {
        "id": "tdtaksekJJcw"
      },
      "execution_count": null,
      "outputs": []
    },
    {
      "cell_type": "code",
      "source": [
        "# mean, standard deviation, z score normalisation using numpy\n",
        "mean_np=np.mean(data)\n",
        "std_dev_np=np.std(data)\n",
        "print(\"mean : \",mean)\n",
        "print(\"standard deviation : \",std_dev)\n",
        "def zscore_normalisation_2(data):\n",
        "  return (data-mean_np)/std_dev_np\n",
        "print(\"z_score_normalisation\",zscore_normalisation_2(data))"
      ],
      "metadata": {
        "id": "AAbib0lcJ80f"
      },
      "execution_count": null,
      "outputs": []
    },
    {
      "cell_type": "markdown",
      "source": [
        "Q3. Sigmoid fn and its derivative"
      ],
      "metadata": {
        "id": "c5AQvz0BPcSx"
      }
    },
    {
      "cell_type": "code",
      "source": [
        "def sigmoidfn(x):\n",
        "  return 1/(1+np.exp(-x))\n",
        "def derivative(x):\n",
        "  return sigmoidfn(x)*(1-sigmoidfn(x))\n",
        "\n",
        "x = np.array([\n",
        "    [9,2,5,0,0],\n",
        "    [7,5,0,0,0]\n",
        "])\n",
        "print(f\"x on applying sigmoid activation fn is: {sigmoidfn(x)}\")\n",
        "print(f\"x on applying derivative of sigmoid activation fn is: {derivative(x)}\")"
      ],
      "metadata": {
        "id": "oLLppnE1PaHv"
      },
      "execution_count": null,
      "outputs": []
    },
    {
      "cell_type": "markdown",
      "source": [
        "SECTION 2 : EXPLORING PANDAS\n"
      ],
      "metadata": {
        "id": "pd9xyp1ERuoz"
      }
    },
    {
      "cell_type": "code",
      "source": [
        "df = pd.read_csv('https://raw.githubusercontent.com/rpyaduvanshi950/VisionCraft-TheWinter-Challenge/main/Week1/superheated_vapor_properties.csv',skiprows=1)\n",
        "df"
      ],
      "metadata": {
        "id": "p1B-W7FODvEJ"
      },
      "execution_count": null,
      "outputs": []
    },
    {
      "cell_type": "code",
      "source": [
        "data_shape=df.shape\n",
        "print(data_shape)"
      ],
      "metadata": {
        "id": "TdS2yDgtX0Fl"
      },
      "execution_count": null,
      "outputs": []
    },
    {
      "cell_type": "code",
      "source": [
        "column_names=df.columns\n",
        "print(column_names)"
      ],
      "metadata": {
        "id": "NT5QZ93ZYh0t"
      },
      "execution_count": null,
      "outputs": []
    },
    {
      "cell_type": "code",
      "source": [
        "null_values=df.isnull().sum()\n",
        "print(null_values)"
      ],
      "metadata": {
        "id": "ekjdytaUb0Y0"
      },
      "execution_count": null,
      "outputs": []
    },
    {
      "cell_type": "code",
      "source": [
        "df[\"Pressure_Property\"] = df[\"Property\"] + \" at \" + df[\"Pressure\"].astype(str)\n",
        "print(df)\n",
        "# Enthalpy at 75 kPa and 573 K\n",
        "enthalpy = df[(df[\"Pressure\"] == 75) & (df[\"575\"]) & (df[\"Property\"] == \"H\")]\n",
        "\n",
        "# Entropy at 493 K and 250 kPa\n",
        "entropy = df[(df[\"Pressure\"] == 250) & (df[\"500\"]) & (df[\"Property\"] == \"S\")]\n",
        "\n",
        "#print(f\"Enthalpy at 75 kPa and 573 K: {enthalpy}\")\n",
        "#print(f\"Entropy at 493 K and 250 kPa: {entropy}\")"
      ],
      "metadata": {
        "id": "dZSuZ3bTG1_0"
      },
      "execution_count": null,
      "outputs": []
    },
    {
      "cell_type": "code",
      "source": [
        "#max null values\n",
        "column_with_most_missing = null_values.idxmax()\n",
        "max_missing_count = null_values.max()\n",
        "print(f\"\\nColumn with the highest number of missing values: '{column_with_most_missing}' ({max_missing_count} missing values)\")"
      ],
      "metadata": {
        "id": "RWOcJarI7RsK"
      },
      "execution_count": null,
      "outputs": []
    },
    {
      "cell_type": "code",
      "source": [
        "#average enthalpy\n",
        "enthalpy_sat_liq=df[df['Property']=='H']['Liq_Sat'].astype(float)\n",
        "avg_enthalpy_sat_liq=enthalpy_sat_liq.mean()\n",
        "print(avg_enthalpy_sat_liq)\n"
      ],
      "metadata": {
        "id": "oXrZ6znzP0Uf"
      },
      "execution_count": null,
      "outputs": []
    },
    {
      "cell_type": "code",
      "source": [
        "#separating out V,U,H,S data\n",
        "V_data=df[df['Property']=='V'].reset_index(drop=True)\n",
        "U_data=df[df['Property']=='U'].reset_index(drop=True)\n",
        "H_data=df[df['Property']=='H'].reset_index(drop=True)\n",
        "S_data=df[df['Property']=='S'].reset_index(drop=True)\n",
        "print(V_data)\n",
        "print(U_data)\n",
        "print(H_data)\n",
        "print(S_data)"
      ],
      "metadata": {
        "id": "7oPt9MsKMy6O"
      },
      "execution_count": null,
      "outputs": []
    }
  ]
}