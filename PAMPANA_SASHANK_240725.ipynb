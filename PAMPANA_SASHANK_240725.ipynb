{
 "cells": [
  {
   "cell_type": "markdown",
   "id": "ac914a39-93dc-4670-be91-6ec3cf5b68fe",
   "metadata": {},
   "source": [
    "#Section 0 : Importing Libraries"
   ]
  },
  {
   "cell_type": "code",
   "execution_count": 3,
   "id": "676d69ad-fdf3-4063-b572-8591b246c57d",
   "metadata": {},
   "outputs": [],
   "source": [
    "import numpy as np\n",
    "import pandas as pd"
   ]
  },
  {
   "cell_type": "markdown",
   "id": "f818c56c-b699-461f-b590-e79be57c41cc",
   "metadata": {},
   "source": [
    "#Section 1 : Playing With Python And Numpy"
   ]
  },
  {
   "cell_type": "code",
   "execution_count": 7,
   "id": "0cf028f9-9b2a-480e-8e4c-f5736166860b",
   "metadata": {},
   "outputs": [],
   "source": [
    "def isValid(A,B):\n",
    "    A=len(A[0])\n",
    "    B=len(B)\n",
    "    if A==B:\n",
    "        return True\n",
    "    else:\n",
    "        return False"
   ]
  },
  {
   "cell_type": "code",
   "execution_count": 8,
   "id": "3f982adc-099b-42e1-8dd8-7acbcfa92b6c",
   "metadata": {},
   "outputs": [],
   "source": [
    "def matrix_multiply(A,B):\n",
    "    x,y=len(A[0]),len(A)\n",
    "    z=len(B)\n",
    "    C[0]=0\n",
    "    for a in range(x):\n",
    "         C[a][b]=0\n",
    "    for i in range(x):\n",
    "         for j in range(z):\n",
    "             for k in range(y):   \n",
    "                 C[i][j]+=A[i][k]*B[k][j]\n",
    "    return C"
   ]
  },
  {
   "cell_type": "code",
   "execution_count": 9,
   "id": "6d00fe62-4247-42d3-b4ec-32dc8e4fd725",
   "metadata": {},
   "outputs": [],
   "source": [
    "def matrix_multiply_2(A,B):\n",
    "    return np.dot(A,B)"
   ]
  },
  {
   "cell_type": "code",
   "execution_count": 10,
   "id": "bbf3b94e-6006-4428-9168-69c393296fbd",
   "metadata": {},
   "outputs": [
    {
     "ename": "NameError",
     "evalue": "name 'C' is not defined",
     "output_type": "error",
     "traceback": [
      "\u001b[1;31m---------------------------------------------------------------------------\u001b[0m",
      "\u001b[1;31mNameError\u001b[0m                                 Traceback (most recent call last)",
      "Cell \u001b[1;32mIn[10], line 15\u001b[0m\n\u001b[0;32m      8\u001b[0m B \u001b[38;5;241m=\u001b[39m np\u001b[38;5;241m.\u001b[39marray([\n\u001b[0;32m      9\u001b[0m     [\u001b[38;5;241m13\u001b[39m, \u001b[38;5;241m14\u001b[39m, \u001b[38;5;241m15\u001b[39m],\n\u001b[0;32m     10\u001b[0m     [\u001b[38;5;241m16\u001b[39m, \u001b[38;5;241m17\u001b[39m, \u001b[38;5;241m18\u001b[39m],\n\u001b[0;32m     11\u001b[0m     [\u001b[38;5;241m19\u001b[39m, \u001b[38;5;241m20\u001b[39m, \u001b[38;5;241m21\u001b[39m]\n\u001b[0;32m     12\u001b[0m ])\n\u001b[0;32m     14\u001b[0m \u001b[38;5;28;01mif\u001b[39;00m isValid(A,B):\n\u001b[1;32m---> 15\u001b[0m   \u001b[38;5;28mprint\u001b[39m(\u001b[38;5;124mf\u001b[39m\u001b[38;5;124m\"\u001b[39m\u001b[38;5;124mResult using loops: \u001b[39m\u001b[38;5;132;01m{\u001b[39;00m\u001b[43mmatrix_multiply\u001b[49m\u001b[43m(\u001b[49m\u001b[43mA\u001b[49m\u001b[43m,\u001b[49m\u001b[43mB\u001b[49m\u001b[43m)\u001b[49m\u001b[38;5;132;01m}\u001b[39;00m\u001b[38;5;124m\"\u001b[39m)\n\u001b[0;32m     16\u001b[0m   \u001b[38;5;28mprint\u001b[39m(\u001b[38;5;124mf\u001b[39m\u001b[38;5;124m\"\u001b[39m\u001b[38;5;124mResult using numpy: \u001b[39m\u001b[38;5;132;01m{\u001b[39;00mmatrix_multiply_2(A,B)\u001b[38;5;132;01m}\u001b[39;00m\u001b[38;5;124m\"\u001b[39m)\n\u001b[0;32m     17\u001b[0m \u001b[38;5;28;01melse\u001b[39;00m:\n",
      "Cell \u001b[1;32mIn[8], line 4\u001b[0m, in \u001b[0;36mmatrix_multiply\u001b[1;34m(A, B)\u001b[0m\n\u001b[0;32m      2\u001b[0m x,y\u001b[38;5;241m=\u001b[39m\u001b[38;5;28mlen\u001b[39m(A[\u001b[38;5;241m0\u001b[39m]),\u001b[38;5;28mlen\u001b[39m(A)\n\u001b[0;32m      3\u001b[0m z\u001b[38;5;241m=\u001b[39m\u001b[38;5;28mlen\u001b[39m(B)\n\u001b[1;32m----> 4\u001b[0m \u001b[43mC\u001b[49m[\u001b[38;5;241m0\u001b[39m]\u001b[38;5;241m=\u001b[39m\u001b[38;5;241m0\u001b[39m\n\u001b[0;32m      5\u001b[0m \u001b[38;5;28;01mfor\u001b[39;00m a \u001b[38;5;129;01min\u001b[39;00m \u001b[38;5;28mrange\u001b[39m(x):\n\u001b[0;32m      6\u001b[0m      C[a][b]\u001b[38;5;241m=\u001b[39m\u001b[38;5;241m0\u001b[39m\n",
      "\u001b[1;31mNameError\u001b[0m: name 'C' is not defined"
     ]
    }
   ],
   "source": []
  },
  {
   "cell_type": "code",
   "execution_count": 5,
   "id": "410b3902-36e8-4597-9595-0604f79100df",
   "metadata": {},
   "outputs": [],
   "source": [
    "def mean(x):\n",
    "    return sum(x)/len(x)"
   ]
  },
  {
   "cell_type": "code",
   "execution_count": 6,
   "id": "4035ad8a-d068-436d-b95d-5cec748587c4",
   "metadata": {},
   "outputs": [],
   "source": [
    "def standard_deviation(x):\n",
    "    square=0\n",
    "    for index in x:\n",
    "        square+=(index-mean(x))**2\n",
    "    variance=square/len(x)\n",
    "    return (variance)**0.5"
   ]
  },
  {
   "cell_type": "code",
   "execution_count": 7,
   "id": "22687b3a-9bf1-443f-a5e2-0d80cbf42eb5",
   "metadata": {},
   "outputs": [],
   "source": [
    "def zscore_normalisation(x):\n",
    "    mean=sum(x)/len(x)\n",
    "    list=[]\n",
    "    for index in x:\n",
    "       list.append((index-mean)/standard_deviation(x))\n",
    "    return list\n",
    "        "
   ]
  },
  {
   "cell_type": "code",
   "execution_count": 8,
   "id": "acbe15cc-7fe5-4d21-b46f-f8b6717e8c34",
   "metadata": {},
   "outputs": [],
   "source": [
    "def zscore_normalisation_2(x):\n",
    "    mean=np.mean(x)\n",
    "    std=np.std(x)\n",
    "    return (x-mean)/std"
   ]
  },
  {
   "cell_type": "code",
   "execution_count": 9,
   "id": "0f26d63c-6c82-4aca-b1f8-380bd6677c42",
   "metadata": {},
   "outputs": [
    {
     "name": "stdout",
     "output_type": "stream",
     "text": [
      "Result without using numpy: [-1.0675326683028088, -0.9974539373420117, -0.9974539373420117, -0.8105773214465528, -0.41346451266870277, -0.06307085786471743, 0.3106823739262003, 0.9180313755864415, 1.2217058764165623, 1.8991336090376005]\n",
      "Result using numpy: [-1.06753267 -0.99745394 -0.99745394 -0.81057732 -0.41346451 -0.06307086\n",
      "  0.31068237  0.91803138  1.22170588  1.89913361]\n"
     ]
    }
   ],
   "source": [
    "x = [4, 7, 7, 15, 32, 47, 63, 89, 102, 131]\n",
    "print(f\"Result without using numpy: {zscore_normalisation(x)}\")\n",
    "print(f\"Result using numpy: {zscore_normalisation_2(x)}\")"
   ]
  },
  {
   "cell_type": "code",
   "execution_count": 10,
   "id": "111f1494-43cf-42a7-97fa-4fd3f5790da0",
   "metadata": {},
   "outputs": [],
   "source": [
    "def sigmoidfn(x):\n",
    "    return 1/(1+np.exp(-x))"
   ]
  },
  {
   "cell_type": "code",
   "execution_count": 11,
   "id": "74e8ebc1-d346-41bb-83bd-40364f1748a9",
   "metadata": {},
   "outputs": [],
   "source": [
    "def derivative(x):\n",
    "    return np.exp(-x)/((1+np.exp(-x))**2)"
   ]
  },
  {
   "cell_type": "code",
   "execution_count": 12,
   "id": "70f18547-aaf6-4ff5-8b48-db1ee40353ce",
   "metadata": {},
   "outputs": [
    {
     "name": "stdout",
     "output_type": "stream",
     "text": [
      "x on applying sigmoid activation fn is: [[0.99987661 0.88079708 0.99330715 0.5        0.5       ]\n",
      " [0.99908895 0.99330715 0.5        0.5        0.5       ]]\n",
      "x on applying derivative of sigmoid activation fn is: [[1.23379350e-04 1.04993585e-01 6.64805667e-03 2.50000000e-01\n",
      "  2.50000000e-01]\n",
      " [9.10221180e-04 6.64805667e-03 2.50000000e-01 2.50000000e-01\n",
      "  2.50000000e-01]]\n"
     ]
    }
   ],
   "source": [
    "x = np.array([\n",
    "    [9,2,5,0,0],\n",
    "    [7,5,0,0,0]\n",
    "])\n",
    "print(f\"x on applying sigmoid activation fn is: {sigmoidfn(x)}\")\n",
    "print(f\"x on applying derivative of sigmoid activation fn is: {derivative(x)}\")"
   ]
  },
  {
   "cell_type": "markdown",
   "id": "8eb19280-618e-465e-8d4e-8d988076b1b1",
   "metadata": {},
   "source": [
    "#Section 2 :Exploring Pandas"
   ]
  },
  {
   "cell_type": "code",
   "execution_count": 5,
   "id": "f61ec406-d999-43c9-8a06-888db7e9db7b",
   "metadata": {},
   "outputs": [
    {
     "ename": "AttributeError",
     "evalue": "module 'pandas' has no attribute 'head'",
     "output_type": "error",
     "traceback": [
      "\u001b[1;31m---------------------------------------------------------------------------\u001b[0m",
      "\u001b[1;31mAttributeError\u001b[0m                            Traceback (most recent call last)",
      "Cell \u001b[1;32mIn[5], line 1\u001b[0m\n\u001b[1;32m----> 1\u001b[0m data\u001b[38;5;241m=\u001b[39m\u001b[43mpd\u001b[49m\u001b[38;5;241;43m.\u001b[39;49m\u001b[43mhead\u001b[49m(\u001b[38;5;124m'\u001b[39m\u001b[38;5;124mWeek1/superheated_vapor_properties.csv\u001b[39m\u001b[38;5;124m'\u001b[39m)\n",
      "\u001b[1;31mAttributeError\u001b[0m: module 'pandas' has no attribute 'head'"
     ]
    }
   ],
   "source": [
    "data=pd.read_csv('Week1/superheated_vapor_properties.csv')"
   ]
  }
 ],
 "metadata": {
  "kernelspec": {
   "display_name": "Python 3 (ipykernel)",
   "language": "python",
   "name": "python3"
  },
  "language_info": {
   "codemirror_mode": {
    "name": "ipython",
    "version": 3
   },
   "file_extension": ".py",
   "mimetype": "text/x-python",
   "name": "python",
   "nbconvert_exporter": "python",
   "pygments_lexer": "ipython3",
   "version": "3.12.5"
  }
 },
 "nbformat": 4,
 "nbformat_minor": 5
}
