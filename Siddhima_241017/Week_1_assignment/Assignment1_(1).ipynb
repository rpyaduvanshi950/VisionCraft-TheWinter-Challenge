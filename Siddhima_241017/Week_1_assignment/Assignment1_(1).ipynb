{
  "cells": [
    {
      "cell_type": "markdown",
      "metadata": {
        "id": "UOzd0zRXW5Uv"
      },
      "source": [
        "# Week-1 Assignment\n",
        "\n",
        "*Welcome to your first assignment for the SimuTech Winter Project 2022! I hope you are excited to implement and test everything you have learned up until now. There is an interesting set of questions for you to refine your acquired skills as you delve into hands-on coding and deepen your understanding of numpy, pandas, and data visualization libraries.*"
      ]
    },
    {
      "cell_type": "markdown",
      "metadata": {
        "id": "2XFUXyq9Y9TG"
      },
      "source": [
        "# Section 0 : Importing Libraries"
      ]
    },
    {
      "cell_type": "markdown",
      "metadata": {
        "id": "D_bzcLusjSO0"
      },
      "source": [
        "*Let's begin by importing numpy, pandas and matplotlib.*"
      ]
    },
    {
      "cell_type": "code",
      "execution_count": 1,
      "metadata": {
        "id": "jdwX7bI7aGeY"
      },
      "outputs": [],
      "source": [
        "import numpy as np\n",
        "import pandas as pd\n",
        "import matplotlib.pyplot as plt"
      ]
    },
    {
      "cell_type": "markdown",
      "metadata": {
        "id": "LM25mz5ta-Q_"
      },
      "source": [
        "# Section 1 : Playing with Python and Numpy"
      ]
    },
    {
      "cell_type": "markdown",
      "metadata": {
        "id": "TcFQVqhAdQw_"
      },
      "source": [
        "### Q1. Matrix Multiplication"
      ]
    },
    {
      "cell_type": "markdown",
      "metadata": {
        "id": "6Dcai9pys0j8"
      },
      "source": [
        "##### (i) Check if matrix multiplication is valid"
      ]
    },
    {
      "cell_type": "code",
      "execution_count": 2,
      "metadata": {
        "id": "0qC4txIss3gG"
      },
      "outputs": [],
      "source": [
        "import numpy as np\n",
        "def isValid(A,B):\n",
        "  sA=A.shape\n",
        "  sB=B.shape\n",
        "  if (sA[1]==sB[0]):\n",
        "   return True\n",
        "  else:\n",
        "   return False"
      ]
    },
    {
      "cell_type": "markdown",
      "metadata": {
        "id": "OPTfRGlTdXxa"
      },
      "source": [
        "##### (ii) Using loops (without using numpy)"
      ]
    },
    {
      "cell_type": "code",
      "execution_count": 3,
      "metadata": {
        "id": "V8F5ETsRct3S"
      },
      "outputs": [],
      "source": [
        "def matrix_multiply(A,B):\n",
        "  C = [[0 for _ in range(len(B[0]))] for _ in range(len(A))]\n",
        "  for i in range(len(A)):\n",
        "    for j in range(len(B[0])):\n",
        "      C[i][j]=0\n",
        "  for i in range(len(A)):\n",
        "    for j in range(len(B[0])):\n",
        "      for k in range(len(B)):\n",
        "        C[i][j]+=A[i][k]*B[k][j]\n",
        "  return C\n"
      ]
    },
    {
      "cell_type": "markdown",
      "metadata": {
        "id": "umUgUTSWdos8"
      },
      "source": [
        "##### (iii) Using numpy"
      ]
    },
    {
      "cell_type": "code",
      "execution_count": 4,
      "metadata": {
        "id": "-tdXlCHrduBP"
      },
      "outputs": [],
      "source": [
        "def matrix_multiply_2(A,B):\n",
        "  C=np.matmul(A,B)\n",
        "  return C"
      ]
    },
    {
      "cell_type": "markdown",
      "metadata": {
        "id": "2nMFnl84edJG"
      },
      "source": [
        "##### (iv) Testing your code\n",
        "\n",
        "Run the following cell to check if your functions are working properly.\n",
        "\n",
        "*Expected output:*\n",
        "[ [102 108 114]\n",
        " [246 261 276]\n",
        " [390 414 438]\n",
        " [534 567 600] ]"
      ]
    },
    {
      "cell_type": "code",
      "execution_count": 5,
      "metadata": {
        "id": "09rX_Cm9ezmq",
        "colab": {
          "base_uri": "https://localhost:8080/"
        },
        "outputId": "2f0c4e22-d0e2-4f89-9cee-8914e651bb58"
      },
      "outputs": [
        {
          "output_type": "stream",
          "name": "stdout",
          "text": [
            "Result using loops: [[102, 108, 114], [246, 261, 276], [390, 414, 438], [534, 567, 600]]\n",
            "Result using numpy: [[102 108 114]\n",
            " [246 261 276]\n",
            " [390 414 438]\n",
            " [534 567 600]]\n"
          ]
        }
      ],
      "source": [
        "A = np.array([\n",
        "    [1, 2, 3],\n",
        "    [4, 5, 6],\n",
        "    [7, 8, 9],\n",
        "    [10, 11, 12]\n",
        "])\n",
        "\n",
        "B = np.array([\n",
        "    [13, 14, 15],\n",
        "    [16, 17, 18],\n",
        "    [19, 20, 21]\n",
        "])\n",
        "\n",
        "if isValid(A,B):\n",
        "  print(f\"Result using loops: {matrix_multiply(A,B)}\")\n",
        "  print(f\"Result using numpy: {matrix_multiply_2(A,B)}\")\n",
        "else:\n",
        "  print(f\"Matrix multiplication is not valid\")"
      ]
    },
    {
      "cell_type": "markdown",
      "metadata": {
        "id": "5hfP7Ao1fwqV"
      },
      "source": [
        "### Q2. Z-Score Normalisation"
      ]
    },
    {
      "cell_type": "markdown",
      "metadata": {
        "id": "0e81Xx5Kw_CQ"
      },
      "source": [
        "Z-score normalization refers to the process of normalizing every value in a dataset such that the mean of all of the values is 0 and the standard deviation is 1.\n",
        "\n",
        "We use the following formula to perform a z-score normalization on every value in a dataset:\n",
        "\n",
        "New value = (x – μ) / σ\n",
        "\n",
        "where:\n",
        "\n",
        "x: Original value\n",
        "\n",
        "μ: Mean of data\n",
        "\n",
        "σ: Standard deviation of data"
      ]
    },
    {
      "cell_type": "markdown",
      "metadata": {
        "id": "GP_MuyUbguSR"
      },
      "source": [
        "##### (i) Without using numpy"
      ]
    },
    {
      "cell_type": "code",
      "execution_count": 6,
      "metadata": {
        "id": "0vix8qaaghwP"
      },
      "outputs": [],
      "source": [
        "def mean(x):\n",
        "  s=0\n",
        "  for i in x:\n",
        "    s=s+i\n",
        "  return s/len(x)\n"
      ]
    },
    {
      "cell_type": "code",
      "execution_count": 7,
      "metadata": {
        "id": "j1qabel-g_f5"
      },
      "outputs": [],
      "source": [
        "def standard_deviation(x):\n",
        "  m=mean(x)\n",
        "  s=0\n",
        "  for i in x:\n",
        "    s=s+(i-m)**2\n",
        "  return (s/len(x))**0.5"
      ]
    },
    {
      "cell_type": "code",
      "execution_count": 8,
      "metadata": {
        "id": "797ewbNqhEpY"
      },
      "outputs": [],
      "source": [
        "def zscore_normalisation(x):\n",
        "  m=mean(x)\n",
        "  s=standard_deviation(x)\n",
        "  for i in range(len(x)):\n",
        "    x[i]=(x[i]-m)/s\n",
        "  return x"
      ]
    },
    {
      "cell_type": "markdown",
      "metadata": {
        "id": "k8dq1wqRhbUB"
      },
      "source": [
        "##### (ii) Using numpy\n",
        "\n",
        "Numpy has in_built functions for calculating mean and standard deviation"
      ]
    },
    {
      "cell_type": "code",
      "execution_count": 9,
      "metadata": {
        "id": "WjxJTUDihsYg"
      },
      "outputs": [],
      "source": [
        "def zscore_normalisation_2(x):\n",
        "  m=np.mean(x)\n",
        "  s=np.std(x)\n",
        "  for i in range(len(x)):\n",
        "    x[i]=(x[i]-m)/s\n",
        "  return x"
      ]
    },
    {
      "cell_type": "markdown",
      "metadata": {
        "id": "glRqKU-_1pue"
      },
      "source": [
        "##### (iii) Testing your code"
      ]
    },
    {
      "cell_type": "markdown",
      "metadata": {
        "id": "Kl7XBymOigCU"
      },
      "source": [
        "Run the following cell to check if your functions are working properly.\n",
        "\n",
        "*Expected Output:* [-1.06753267 -0.99745394 -0.99745394 -0.81057732 -0.41346451 -0.06307086\n",
        "  0.31068237  0.91803138  1.22170588  1.89913361]"
      ]
    },
    {
      "cell_type": "code",
      "execution_count": 10,
      "metadata": {
        "id": "78ptZxf6ipZp",
        "colab": {
          "base_uri": "https://localhost:8080/"
        },
        "outputId": "f259a32a-40ba-410d-fec3-697eb1c1e56f"
      },
      "outputs": [
        {
          "output_type": "stream",
          "name": "stdout",
          "text": [
            "Result without using numpy: [-1.0675326683028088, -0.9974539373420117, -0.9974539373420117, -0.8105773214465528, -0.41346451266870277, -0.06307085786471743, 0.3106823739262003, 0.9180313755864415, 1.2217058764165623, 1.8991336090376005]\n",
            "Result using numpy: [-1.0675326683028088, -0.9974539373420116, -0.9974539373420116, -0.8105773214465527, -0.41346451266870266, -0.06307085786471735, 0.3106823739262004, 0.9180313755864417, 1.2217058764165623, 1.8991336090376005]\n"
          ]
        }
      ],
      "source": [
        "x = [4, 7, 7, 15, 32, 47, 63, 89, 102, 131]\n",
        "print(f\"Result without using numpy: {zscore_normalisation(x)}\")\n",
        "print(f\"Result using numpy: {zscore_normalisation_2(x)}\")"
      ]
    },
    {
      "cell_type": "markdown",
      "metadata": {
        "id": "0WVscJ0z14rp"
      },
      "source": [
        "### Q3. Sigmoid fn and its derivative"
      ]
    },
    {
      "cell_type": "markdown",
      "metadata": {
        "id": "Jfntb0Rg94Tu"
      },
      "source": [
        "The sigmoid function is a mathematical function that maps any input value to a value between 0 and 1.\n",
        "\n",
        "It is defined mathematically as s(x) = 1/(1+e^(-x))."
      ]
    },
    {
      "cell_type": "markdown",
      "metadata": {
        "id": "8SCAPkjO2m7u"
      },
      "source": [
        "##### (i) Write a fn to implement sigmoid fn"
      ]
    },
    {
      "cell_type": "code",
      "execution_count": 11,
      "metadata": {
        "id": "jL_TRQFG2l5m"
      },
      "outputs": [],
      "source": [
        "def sigmoidfn(x):\n",
        "  from math import e\n",
        "  for i in range(len(x)):\n",
        "    for j in range(len(x[0])):\n",
        "      x[i][j]=1/(1+e**(-x[i][j]))\n",
        "  return x"
      ]
    },
    {
      "cell_type": "markdown",
      "metadata": {
        "id": "t7KBbl7N3AUM"
      },
      "source": [
        "##### (ii) Write a fn to implement derivative of sigmoid fn"
      ]
    },
    {
      "cell_type": "code",
      "execution_count": 12,
      "metadata": {
        "id": "okjuOpba3KOJ"
      },
      "outputs": [],
      "source": [
        "def derivative(x):\n",
        "  for i in range(len(x)):\n",
        "    for j in range(len(x[0])):\n",
        "      x[i][j]=x[i][j]*(1-x[i][j])\n",
        "  return x"
      ]
    },
    {
      "cell_type": "markdown",
      "metadata": {
        "id": "NdGTSpsp3mwr"
      },
      "source": [
        "##### (iii) Test your code"
      ]
    },
    {
      "cell_type": "markdown",
      "metadata": {
        "id": "lWY8RBex7gnd"
      },
      "source": [
        "Run the following cell to check if your functions are working properly.\n",
        "\n",
        "*Expected output:*\n",
        "\n",
        "x on applying sigmoid activation fn is: [ [0.99987661 0.88079708 0.99330715 0.5        0.5       ]\n",
        " [0.99908895 0.99330715 0.5        0.5        0.5       ] ]\n",
        "\n",
        "x on applying derivative of sigmoid activation fn is: [ [-1.23379350e-04 -1.04993585e-01 -6.64805667e-03 -2.50000000e-01\n",
        "  -2.50000000e-01]\n",
        " [-9.10221180e-04 -6.64805667e-03 -2.50000000e-01 -2.50000000e-01\n",
        "  -2.50000000e-01] ]"
      ]
    },
    {
      "cell_type": "code",
      "execution_count": 13,
      "metadata": {
        "id": "ssDGpmS33vdA",
        "colab": {
          "base_uri": "https://localhost:8080/"
        },
        "outputId": "78ff61da-e24e-41c0-8ea0-6af018e5e59a"
      },
      "outputs": [
        {
          "output_type": "stream",
          "name": "stdout",
          "text": [
            "x on applying sigmoid activation fn is: [[0 0 0 0 0]\n",
            " [0 0 0 0 0]]\n",
            "x on applying derivative of sigmoid activation fn is: [[0 0 0 0 0]\n",
            " [0 0 0 0 0]]\n"
          ]
        }
      ],
      "source": [
        "x = np.array([\n",
        "    [9,2,5,0,0],\n",
        "    [7,5,0,0,0]\n",
        "])\n",
        "print(f\"x on applying sigmoid activation fn is: {sigmoidfn(x)}\")\n",
        "print(f\"x on applying derivative of sigmoid activation fn is: {derivative(x)}\")"
      ]
    },
    {
      "cell_type": "markdown",
      "metadata": {
        "id": "PMa0cseyZpa1"
      },
      "source": [
        "# Section 2: Exploring Pandas"
      ]
    },
    {
      "cell_type": "markdown",
      "metadata": {
        "id": "DB8e0KVGqV5I"
      },
      "source": [
        "*You have been provided with a dataset which includes information about properties of superheated vapor.*\n",
        "\n",
        "*The dataset consists of the thermophysical properties: specific volume, specific internal energy, specific enthalpy, specific entropy of superheated vapor.*\n",
        "\n",
        "*Pressure is in kPa and Temperature in centigrade. In the dataframe 75, 100, 125, etc. are temperatures.*"
      ]
    },
    {
      "cell_type": "markdown",
      "metadata": {
        "id": "i5Okb_jxZ_VW"
      },
      "source": [
        "### Read the csv file\n"
      ]
    },
    {
      "cell_type": "code",
      "execution_count": 15,
      "metadata": {
        "id": "aQgvyavrcM1l"
      },
      "outputs": [],
      "source": [
        "import pandas as pd\n",
        "data=pd.read_csv('/content/superheated_vapor_properties2.csv')"
      ]
    },
    {
      "cell_type": "markdown",
      "metadata": {
        "id": "Zp8F3rk2cNxy"
      },
      "source": [
        "### Display the shape of data frame\n"
      ]
    },
    {
      "cell_type": "code",
      "execution_count": 16,
      "metadata": {
        "id": "v3Q8kQkucgK0",
        "colab": {
          "base_uri": "https://localhost:8080/"
        },
        "outputId": "09563006-4038-44be-e183-a609ab470117"
      },
      "outputs": [
        {
          "output_type": "execute_result",
          "data": {
            "text/plain": [
              "(543, 37)"
            ]
          },
          "metadata": {},
          "execution_count": 16
        }
      ],
      "source": [
        "data=pd.DataFrame(data)\n",
        "data.shape"
      ]
    },
    {
      "cell_type": "markdown",
      "metadata": {
        "id": "w49cp-8zcgd2"
      },
      "source": [
        "### Return an array containing names of all the columns"
      ]
    },
    {
      "cell_type": "code",
      "execution_count": 17,
      "metadata": {
        "id": "fz4HRb3JcsZp",
        "colab": {
          "base_uri": "https://localhost:8080/"
        },
        "outputId": "b38c894c-e16e-4b4f-f82a-053b42721215"
      },
      "outputs": [
        {
          "output_type": "execute_result",
          "data": {
            "text/plain": [
              "Index(['Pressure', 'Property', 'Liq_Sat', 'Vap_Sat', '75', '100', '125', '150',\n",
              "       '175', '200', '220', '225', '240', '250', '260', '275', '280', '290',\n",
              "       '300', '320', '325', '340', '350', '360', '375', '380', '400', '425',\n",
              "       '450', '475', '500', '525', '550', '575', '600', '625', '650'],\n",
              "      dtype='object')"
            ]
          },
          "metadata": {},
          "execution_count": 17
        }
      ],
      "source": [
        "data.columns"
      ]
    },
    {
      "cell_type": "markdown",
      "metadata": {
        "id": "YkTH9tRWcrH-"
      },
      "source": [
        "### Display the number of null values in each column of the dataframe\n",
        "\n"
      ]
    },
    {
      "cell_type": "code",
      "execution_count": 18,
      "metadata": {
        "id": "GK9-PJPxc3Ot",
        "colab": {
          "base_uri": "https://localhost:8080/"
        },
        "outputId": "f6498811-d35e-4810-eacc-fca7e08e4c95"
      },
      "outputs": [
        {
          "output_type": "stream",
          "name": "stdout",
          "text": [
            "Pressure      0\n",
            "Property      0\n",
            "Liq_Sat       0\n",
            "Vap_Sat       0\n",
            "75          527\n",
            "100         507\n",
            "125         487\n",
            "150         447\n",
            "175         383\n",
            "200         319\n",
            "220         407\n",
            "225         399\n",
            "240         407\n",
            "250         343\n",
            "260         383\n",
            "275         339\n",
            "280         379\n",
            "290         487\n",
            "300          59\n",
            "320         479\n",
            "325         135\n",
            "340         476\n",
            "350          67\n",
            "360         476\n",
            "375         203\n",
            "380         476\n",
            "400           0\n",
            "425         204\n",
            "450           0\n",
            "475         204\n",
            "500           0\n",
            "525         272\n",
            "550           0\n",
            "575         340\n",
            "600           0\n",
            "625         476\n",
            "650           0\n",
            "dtype: int64\n"
          ]
        }
      ],
      "source": [
        "null_count=data.isnull().sum()\n",
        "print(null_count)"
      ]
    },
    {
      "cell_type": "markdown",
      "metadata": {
        "id": "Av-lcft2c3mx"
      },
      "source": [
        "### Create a column which contains the Pressure and Property columns, seperated with 'at' (For eg. V at 1, H at 101.325). Using this print the following:\n",
        "- Enthalpy at 75 kPa and 573 K\n",
        "- Entropy at 493 K and 250 kPa\n",
        "\n"
      ]
    },
    {
      "cell_type": "code",
      "execution_count": 19,
      "metadata": {
        "id": "B2AihQj_c32C"
      },
      "outputs": [],
      "source": [
        "data['addition']=data['Property'].astype(str)+' at '+data['Pressure'].astype(str)\n"
      ]
    },
    {
      "cell_type": "markdown",
      "metadata": {
        "id": "GpLtXYRLc4Ho"
      },
      "source": [
        "### Find out the column with the highest number of missing values"
      ]
    },
    {
      "cell_type": "code",
      "execution_count": 20,
      "metadata": {
        "id": "q80Grgeyc4Xn",
        "colab": {
          "base_uri": "https://localhost:8080/",
          "height": 36
        },
        "outputId": "22dd2c1f-dc82-481b-f973-b25da729bc03"
      },
      "outputs": [
        {
          "output_type": "execute_result",
          "data": {
            "text/plain": [
              "'75'"
            ],
            "application/vnd.google.colaboratory.intrinsic+json": {
              "type": "string"
            }
          },
          "metadata": {},
          "execution_count": 20
        }
      ],
      "source": [
        "null_count.idxmax()"
      ]
    },
    {
      "cell_type": "markdown",
      "metadata": {
        "id": "74NVHTTac4nv"
      },
      "source": [
        "### What is the average enthalpy of Sat. Liq. at all different pressures in the dataset?"
      ]
    },
    {
      "cell_type": "code",
      "execution_count": 21,
      "metadata": {
        "id": "g3mByhBDdpVr",
        "colab": {
          "base_uri": "https://localhost:8080/"
        },
        "outputId": "c8b76b9f-ee33-4e0f-f4bc-822a1c2c59b0"
      },
      "outputs": [
        {
          "output_type": "execute_result",
          "data": {
            "text/plain": [
              "469.0913154696132"
            ]
          },
          "metadata": {},
          "execution_count": 21
        }
      ],
      "source": [
        "data['Liq_Sat'].mean()"
      ]
    },
    {
      "cell_type": "markdown",
      "metadata": {
        "id": "uS-SuqU8dpxg"
      },
      "source": [
        "### Separate out the V,U,H,S data from the dataset into V_data, U_data, H_data, S_data"
      ]
    },
    {
      "cell_type": "code",
      "execution_count": 22,
      "metadata": {
        "id": "Sg3V9Toyd1Av"
      },
      "outputs": [],
      "source": [
        "V_data=data[(data['Property']=='V')]\n",
        "U_data=data[(data['Property']=='U')]\n",
        "H_data=data[(data['Property']=='H')]\n",
        "S_data=data[(data['Property']=='S')]"
      ]
    },
    {
      "cell_type": "markdown",
      "metadata": {
        "id": "aiNiwCZyqV5U"
      },
      "source": [
        "# Section 4 : Conculsion\n",
        "\n",
        "\n"
      ]
    },
    {
      "cell_type": "markdown",
      "metadata": {
        "id": "jrFuIn48qV5U"
      },
      "source": [
        "*Congratulations on reaching this point! I hope you had fun solving your first assignment and have also built confidence in applying these libraries. If you are wondering, we will cover more about z-score normalization in Week 2, and the sigmoid function will be used in Week 3. After completing this assignment, you are now prepared to learn about machine learning techniques and implement your own machine learning models.*"
      ]
    }
  ],
  "metadata": {
    "colab": {
      "provenance": []
    },
    "kernelspec": {
      "display_name": "Python 3 (ipykernel)",
      "language": "python",
      "name": "python3"
    },
    "language_info": {
      "codemirror_mode": {
        "name": "ipython",
        "version": 3
      },
      "file_extension": ".py",
      "mimetype": "text/x-python",
      "name": "python",
      "nbconvert_exporter": "python",
      "pygments_lexer": "ipython3",
      "version": "3.10.5"
    }
  },
  "nbformat": 4,
  "nbformat_minor": 0
}